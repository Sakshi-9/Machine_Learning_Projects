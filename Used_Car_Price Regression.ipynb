{
 "cells": [
  {
   "cell_type": "code",
   "execution_count": 1,
   "metadata": {},
   "outputs": [],
   "source": [
    "\n",
    "import numpy as np\n",
    "import pandas as pd\n",
    "import matplotlib.pyplot as plt\n",
    "import seaborn as sns\n",
    "import warnings\n",
    "warnings.filterwarnings(\"ignore\")"
   ]
  },
  {
   "cell_type": "code",
   "execution_count": 25,
   "metadata": {},
   "outputs": [
    {
     "data": {
      "text/html": [
       "<div>\n",
       "<style scoped>\n",
       "    .dataframe tbody tr th:only-of-type {\n",
       "        vertical-align: middle;\n",
       "    }\n",
       "\n",
       "    .dataframe tbody tr th {\n",
       "        vertical-align: top;\n",
       "    }\n",
       "\n",
       "    .dataframe thead th {\n",
       "        text-align: right;\n",
       "    }\n",
       "</style>\n",
       "<table border=\"1\" class=\"dataframe\">\n",
       "  <thead>\n",
       "    <tr style=\"text-align: right;\">\n",
       "      <th></th>\n",
       "      <th>0</th>\n",
       "      <th>Name_of_Vehical</th>\n",
       "      <th>On_Road_Price</th>\n",
       "      <th>Rating</th>\n",
       "      <th>Transparency_Score</th>\n",
       "      <th>Seller_Score</th>\n",
       "      <th>Health_Score</th>\n",
       "      <th>Pricing_Score</th>\n",
       "      <th>Make</th>\n",
       "      <th>Model</th>\n",
       "      <th>...</th>\n",
       "      <th>Seating_Capacity</th>\n",
       "      <th>Fuel_Tank_Capacity</th>\n",
       "      <th>Location</th>\n",
       "      <th>Registration_State</th>\n",
       "      <th>Kilometers_Driven</th>\n",
       "      <th>Seller_Type</th>\n",
       "      <th>Number_of_Owners</th>\n",
       "      <th>Engine_Displacement</th>\n",
       "      <th>Fuel_Efficiency</th>\n",
       "      <th>Selling_Price</th>\n",
       "    </tr>\n",
       "  </thead>\n",
       "  <tbody>\n",
       "    <tr>\n",
       "      <th>0</th>\n",
       "      <td>1</td>\n",
       "      <td>Hyundai i10 Sportz 1.2 AT 2012</td>\n",
       "      <td>646545</td>\n",
       "      <td>7.0</td>\n",
       "      <td>6.4</td>\n",
       "      <td>9.5</td>\n",
       "      <td>3.8</td>\n",
       "      <td>8.9</td>\n",
       "      <td>hyundai</td>\n",
       "      <td>i10</td>\n",
       "      <td>...</td>\n",
       "      <td>5.0</td>\n",
       "      <td>35.0</td>\n",
       "      <td>mumbai</td>\n",
       "      <td>Maharashtra</td>\n",
       "      <td>70000</td>\n",
       "      <td>Dealer</td>\n",
       "      <td>Second Owner</td>\n",
       "      <td>1197.0</td>\n",
       "      <td>18.0</td>\n",
       "      <td>290000</td>\n",
       "    </tr>\n",
       "    <tr>\n",
       "      <th>1</th>\n",
       "      <td>2</td>\n",
       "      <td>Hyundai i10 Magna 1.2 2014</td>\n",
       "      <td>485837</td>\n",
       "      <td>6.6</td>\n",
       "      <td>6.4</td>\n",
       "      <td>9.5</td>\n",
       "      <td>3.8</td>\n",
       "      <td>7.0</td>\n",
       "      <td>hyundai</td>\n",
       "      <td>i10</td>\n",
       "      <td>...</td>\n",
       "      <td>5.0</td>\n",
       "      <td>35.0</td>\n",
       "      <td>mumbai</td>\n",
       "      <td>Maharashtra</td>\n",
       "      <td>50000</td>\n",
       "      <td>Dealer</td>\n",
       "      <td>First Owner</td>\n",
       "      <td>1197.0</td>\n",
       "      <td>20.0</td>\n",
       "      <td>330000</td>\n",
       "    </tr>\n",
       "    <tr>\n",
       "      <th>2</th>\n",
       "      <td>3</td>\n",
       "      <td>Hyundai i10 Sportz 1.2 AT 2012</td>\n",
       "      <td>646545</td>\n",
       "      <td>6.3</td>\n",
       "      <td>6.1</td>\n",
       "      <td>6.7</td>\n",
       "      <td>4.0</td>\n",
       "      <td>9.1</td>\n",
       "      <td>hyundai</td>\n",
       "      <td>i10</td>\n",
       "      <td>...</td>\n",
       "      <td>5.0</td>\n",
       "      <td>35.0</td>\n",
       "      <td>mumbai</td>\n",
       "      <td>Maharashtra</td>\n",
       "      <td>55000</td>\n",
       "      <td>Dealer</td>\n",
       "      <td>First Owner</td>\n",
       "      <td>1197.0</td>\n",
       "      <td>18.0</td>\n",
       "      <td>282150</td>\n",
       "    </tr>\n",
       "  </tbody>\n",
       "</table>\n",
       "<p>3 rows × 28 columns</p>\n",
       "</div>"
      ],
      "text/plain": [
       "   0                 Name_of_Vehical  On_Road_Price  Rating  \\\n",
       "0  1  Hyundai i10 Sportz 1.2 AT 2012         646545     7.0   \n",
       "1  2      Hyundai i10 Magna 1.2 2014         485837     6.6   \n",
       "2  3  Hyundai i10 Sportz 1.2 AT 2012         646545     6.3   \n",
       "\n",
       "   Transparency_Score  Seller_Score  Health_Score  Pricing_Score     Make  \\\n",
       "0                 6.4           9.5           3.8            8.9  hyundai   \n",
       "1                 6.4           9.5           3.8            7.0  hyundai   \n",
       "2                 6.1           6.7           4.0            9.1  hyundai   \n",
       "\n",
       "  Model  ... Seating_Capacity  Fuel_Tank_Capacity Location Registration_State  \\\n",
       "0   i10  ...              5.0                35.0   mumbai        Maharashtra   \n",
       "1   i10  ...              5.0                35.0   mumbai        Maharashtra   \n",
       "2   i10  ...              5.0                35.0   mumbai        Maharashtra   \n",
       "\n",
       "  Kilometers_Driven Seller_Type Number_of_Owners Engine_Displacement  \\\n",
       "0             70000      Dealer     Second Owner              1197.0   \n",
       "1             50000      Dealer      First Owner              1197.0   \n",
       "2             55000      Dealer      First Owner              1197.0   \n",
       "\n",
       "   Fuel_Efficiency  Selling_Price  \n",
       "0             18.0         290000  \n",
       "1             20.0         330000  \n",
       "2             18.0         282150  \n",
       "\n",
       "[3 rows x 28 columns]"
      ]
     },
     "execution_count": 25,
     "metadata": {},
     "output_type": "execute_result"
    }
   ],
   "source": [
    "df=pd.read_excel('Price_Prediction_Dataset.xlsx')\n",
    "df.head(3)"
   ]
  },
  {
   "cell_type": "code",
   "execution_count": 26,
   "metadata": {},
   "outputs": [
    {
     "data": {
      "text/plain": [
       "(549, 27)"
      ]
     },
     "execution_count": 26,
     "metadata": {},
     "output_type": "execute_result"
    }
   ],
   "source": [
    "# The dataset contain 549 observation and 28 columns\n",
    "df=df.drop([0],axis=1)\n",
    "df.shape"
   ]
  },
  {
   "cell_type": "code",
   "execution_count": 27,
   "metadata": {
    "scrolled": true
   },
   "outputs": [
    {
     "data": {
      "text/html": [
       "<div>\n",
       "<style scoped>\n",
       "    .dataframe tbody tr th:only-of-type {\n",
       "        vertical-align: middle;\n",
       "    }\n",
       "\n",
       "    .dataframe tbody tr th {\n",
       "        vertical-align: top;\n",
       "    }\n",
       "\n",
       "    .dataframe thead th {\n",
       "        text-align: right;\n",
       "    }\n",
       "</style>\n",
       "<table border=\"1\" class=\"dataframe\">\n",
       "  <thead>\n",
       "    <tr style=\"text-align: right;\">\n",
       "      <th></th>\n",
       "      <th>On_Road_Price</th>\n",
       "      <th>Rating</th>\n",
       "      <th>Transparency_Score</th>\n",
       "      <th>Seller_Score</th>\n",
       "      <th>Health_Score</th>\n",
       "      <th>Pricing_Score</th>\n",
       "      <th>Year</th>\n",
       "      <th>Seating_Capacity</th>\n",
       "      <th>Fuel_Tank_Capacity</th>\n",
       "      <th>Kilometers_Driven</th>\n",
       "      <th>Engine_Displacement</th>\n",
       "      <th>Fuel_Efficiency</th>\n",
       "      <th>Selling_Price</th>\n",
       "    </tr>\n",
       "  </thead>\n",
       "  <tbody>\n",
       "    <tr>\n",
       "      <th>count</th>\n",
       "      <td>5.490000e+02</td>\n",
       "      <td>549.000000</td>\n",
       "      <td>549.000000</td>\n",
       "      <td>549.000000</td>\n",
       "      <td>549.000000</td>\n",
       "      <td>549.000000</td>\n",
       "      <td>549.000000</td>\n",
       "      <td>326.000000</td>\n",
       "      <td>326.000000</td>\n",
       "      <td>549.000000</td>\n",
       "      <td>539.000000</td>\n",
       "      <td>441.000000</td>\n",
       "      <td>5.490000e+02</td>\n",
       "    </tr>\n",
       "    <tr>\n",
       "      <th>mean</th>\n",
       "      <td>7.090641e+05</td>\n",
       "      <td>6.803825</td>\n",
       "      <td>5.981603</td>\n",
       "      <td>7.255373</td>\n",
       "      <td>5.869217</td>\n",
       "      <td>8.059927</td>\n",
       "      <td>2011.306011</td>\n",
       "      <td>5.024540</td>\n",
       "      <td>40.619632</td>\n",
       "      <td>59165.989071</td>\n",
       "      <td>1437.341373</td>\n",
       "      <td>18.299909</td>\n",
       "      <td>3.581777e+05</td>\n",
       "    </tr>\n",
       "    <tr>\n",
       "      <th>std</th>\n",
       "      <td>3.760845e+05</td>\n",
       "      <td>0.738738</td>\n",
       "      <td>0.827806</td>\n",
       "      <td>1.927678</td>\n",
       "      <td>1.723130</td>\n",
       "      <td>1.593290</td>\n",
       "      <td>3.032245</td>\n",
       "      <td>0.220515</td>\n",
       "      <td>4.596599</td>\n",
       "      <td>40987.903137</td>\n",
       "      <td>418.864785</td>\n",
       "      <td>3.416563</td>\n",
       "      <td>1.944434e+05</td>\n",
       "    </tr>\n",
       "    <tr>\n",
       "      <th>min</th>\n",
       "      <td>0.000000e+00</td>\n",
       "      <td>4.400000</td>\n",
       "      <td>3.500000</td>\n",
       "      <td>3.300000</td>\n",
       "      <td>3.200000</td>\n",
       "      <td>3.200000</td>\n",
       "      <td>2003.000000</td>\n",
       "      <td>5.000000</td>\n",
       "      <td>35.000000</td>\n",
       "      <td>100.000000</td>\n",
       "      <td>1086.000000</td>\n",
       "      <td>10.200000</td>\n",
       "      <td>4.500000e+04</td>\n",
       "    </tr>\n",
       "    <tr>\n",
       "      <th>25%</th>\n",
       "      <td>5.391730e+05</td>\n",
       "      <td>6.300000</td>\n",
       "      <td>5.900000</td>\n",
       "      <td>5.500000</td>\n",
       "      <td>4.000000</td>\n",
       "      <td>7.000000</td>\n",
       "      <td>2010.000000</td>\n",
       "      <td>5.000000</td>\n",
       "      <td>35.000000</td>\n",
       "      <td>36000.000000</td>\n",
       "      <td>1197.000000</td>\n",
       "      <td>16.000000</td>\n",
       "      <td>2.326500e+05</td>\n",
       "    </tr>\n",
       "    <tr>\n",
       "      <th>50%</th>\n",
       "      <td>7.081150e+05</td>\n",
       "      <td>6.800000</td>\n",
       "      <td>6.100000</td>\n",
       "      <td>7.000000</td>\n",
       "      <td>5.700000</td>\n",
       "      <td>8.800000</td>\n",
       "      <td>2011.000000</td>\n",
       "      <td>5.000000</td>\n",
       "      <td>42.000000</td>\n",
       "      <td>55940.000000</td>\n",
       "      <td>1198.000000</td>\n",
       "      <td>18.000000</td>\n",
       "      <td>3.126000e+05</td>\n",
       "    </tr>\n",
       "    <tr>\n",
       "      <th>75%</th>\n",
       "      <td>8.771720e+05</td>\n",
       "      <td>7.200000</td>\n",
       "      <td>6.400000</td>\n",
       "      <td>9.200000</td>\n",
       "      <td>7.400000</td>\n",
       "      <td>9.300000</td>\n",
       "      <td>2013.000000</td>\n",
       "      <td>5.000000</td>\n",
       "      <td>45.000000</td>\n",
       "      <td>73000.000000</td>\n",
       "      <td>1497.000000</td>\n",
       "      <td>20.400000</td>\n",
       "      <td>4.499990e+05</td>\n",
       "    </tr>\n",
       "    <tr>\n",
       "      <th>max</th>\n",
       "      <td>3.306709e+06</td>\n",
       "      <td>9.000000</td>\n",
       "      <td>9.000000</td>\n",
       "      <td>10.000000</td>\n",
       "      <td>9.900000</td>\n",
       "      <td>10.000000</td>\n",
       "      <td>2019.000000</td>\n",
       "      <td>7.000000</td>\n",
       "      <td>60.000000</td>\n",
       "      <td>500001.000000</td>\n",
       "      <td>2609.000000</td>\n",
       "      <td>27.300000</td>\n",
       "      <td>1.608750e+06</td>\n",
       "    </tr>\n",
       "  </tbody>\n",
       "</table>\n",
       "</div>"
      ],
      "text/plain": [
       "       On_Road_Price      Rating  Transparency_Score  Seller_Score  \\\n",
       "count   5.490000e+02  549.000000          549.000000    549.000000   \n",
       "mean    7.090641e+05    6.803825            5.981603      7.255373   \n",
       "std     3.760845e+05    0.738738            0.827806      1.927678   \n",
       "min     0.000000e+00    4.400000            3.500000      3.300000   \n",
       "25%     5.391730e+05    6.300000            5.900000      5.500000   \n",
       "50%     7.081150e+05    6.800000            6.100000      7.000000   \n",
       "75%     8.771720e+05    7.200000            6.400000      9.200000   \n",
       "max     3.306709e+06    9.000000            9.000000     10.000000   \n",
       "\n",
       "       Health_Score  Pricing_Score         Year  Seating_Capacity  \\\n",
       "count    549.000000     549.000000   549.000000        326.000000   \n",
       "mean       5.869217       8.059927  2011.306011          5.024540   \n",
       "std        1.723130       1.593290     3.032245          0.220515   \n",
       "min        3.200000       3.200000  2003.000000          5.000000   \n",
       "25%        4.000000       7.000000  2010.000000          5.000000   \n",
       "50%        5.700000       8.800000  2011.000000          5.000000   \n",
       "75%        7.400000       9.300000  2013.000000          5.000000   \n",
       "max        9.900000      10.000000  2019.000000          7.000000   \n",
       "\n",
       "       Fuel_Tank_Capacity  Kilometers_Driven  Engine_Displacement  \\\n",
       "count          326.000000         549.000000           539.000000   \n",
       "mean            40.619632       59165.989071          1437.341373   \n",
       "std              4.596599       40987.903137           418.864785   \n",
       "min             35.000000         100.000000          1086.000000   \n",
       "25%             35.000000       36000.000000          1197.000000   \n",
       "50%             42.000000       55940.000000          1198.000000   \n",
       "75%             45.000000       73000.000000          1497.000000   \n",
       "max             60.000000      500001.000000          2609.000000   \n",
       "\n",
       "       Fuel_Efficiency  Selling_Price  \n",
       "count       441.000000   5.490000e+02  \n",
       "mean         18.299909   3.581777e+05  \n",
       "std           3.416563   1.944434e+05  \n",
       "min          10.200000   4.500000e+04  \n",
       "25%          16.000000   2.326500e+05  \n",
       "50%          18.000000   3.126000e+05  \n",
       "75%          20.400000   4.499990e+05  \n",
       "max          27.300000   1.608750e+06  "
      ]
     },
     "execution_count": 27,
     "metadata": {},
     "output_type": "execute_result"
    }
   ],
   "source": [
    "df.describe()"
   ]
  },
  {
   "cell_type": "code",
   "execution_count": 28,
   "metadata": {},
   "outputs": [
    {
     "data": {
      "text/plain": [
       "<matplotlib.axes._subplots.AxesSubplot at 0x1ded97f3cf8>"
      ]
     },
     "execution_count": 28,
     "metadata": {},
     "output_type": "execute_result"
    },
    {
     "data": {
      "image/png": "[encoded data removed]",
      "text/plain": [
       "<Figure size 432x288 with 2 Axes>"
      ]
     },
     "metadata": {
      "needs_background": "light"
     },
     "output_type": "display_data"
    }
   ],
   "source": [
    "df_1=df.corr()\n",
    "sns.heatmap(df_1)\n",
    "# The heatmap shows that the on road price, engine displacement and fuel tank capacity has highest correlation with the \n",
    "# dependent variable"
   ]
  },
  {
   "cell_type": "code",
   "execution_count": 29,
   "metadata": {},
   "outputs": [
    {
     "data": {
      "image/png": "[encoded data removed]",
      "text/plain": [
       "<Figure size 864x648 with 16 Axes>"
      ]
     },
     "metadata": {
      "needs_background": "light"
     },
     "output_type": "display_data"
    }
   ],
   "source": [
    "#The histogram for the  dataset, there are few features which are normally distributed\n",
    "df.hist(figsize=(12,9))\n",
    "plt.show()"
   ]
  },
  {
   "cell_type": "code",
   "execution_count": 30,
   "metadata": {},
   "outputs": [
    {
     "data": {
      "text/plain": [
       "<matplotlib.axes._subplots.AxesSubplot at 0x1dedafbc240>"
      ]
     },
     "execution_count": 30,
     "metadata": {},
     "output_type": "execute_result"
    },
    {
     "data": {
      "image/png": "[encoded data removed]",
      "text/plain": [
       "<Figure size 1296x432 with 1 Axes>"
      ]
     },
     "metadata": {
      "needs_background": "light"
     },
     "output_type": "display_data"
    }
   ],
   "source": [
    "# The feature like selling price and on road proice \n",
    "df.boxplot(figsize=(18,6))"
   ]
  },
  {
   "cell_type": "code",
   "execution_count": 31,
   "metadata": {},
   "outputs": [
    {
     "data": {
      "text/plain": [
       "<matplotlib.collections.PathCollection at 0x1dedaead128>"
      ]
     },
     "execution_count": 31,
     "metadata": {},
     "output_type": "execute_result"
    },
    {
     "data": {
      "image/png": "[encoded data removed]",
      "text/plain": [
       "<Figure size 432x288 with 1 Axes>"
      ]
     },
     "metadata": {
      "needs_background": "light"
     },
     "output_type": "display_data"
    }
   ],
   "source": [
    "# So Fuel Tank Capacity has not significant impact on selling price\n",
    "y=df['Selling_Price']\n",
    "X=df['Fuel_Tank_Capacity']\n",
    "plt.ylabel('Selling Price')\n",
    "plt.xlabel('Fuel Tank Capacity')\n",
    "plt.scatter(X,y)"
   ]
  },
  {
   "cell_type": "code",
   "execution_count": 32,
   "metadata": {},
   "outputs": [
    {
     "data": {
      "text/plain": [
       "<matplotlib.collections.PathCollection at 0x1dedaf134a8>"
      ]
     },
     "execution_count": 32,
     "metadata": {},
     "output_type": "execute_result"
    },
    {
     "data": {
      "image/png": "[encoded data removed]",
      "text/plain": [
       "<Figure size 432x288 with 1 Axes>"
      ]
     },
     "metadata": {
      "needs_background": "light"
     },
     "output_type": "display_data"
    }
   ],
   "source": [
    "#There seems to be no relationship between seating capacity and selling score\n",
    "y=df['Selling_Price']\n",
    "X=df['Seating_Capacity']\n",
    "plt.scatter(X,y)"
   ]
  },
  {
   "cell_type": "code",
   "execution_count": 33,
   "metadata": {},
   "outputs": [
    {
     "data": {
      "text/plain": [
       "<matplotlib.collections.PathCollection at 0x1dedb1f2978>"
      ]
     },
     "execution_count": 33,
     "metadata": {},
     "output_type": "execute_result"
    },
    {
     "data": {
      "image/png": "[encoded data removed]",
      "text/plain": [
       "<Figure size 432x288 with 1 Axes>"
      ]
     },
     "metadata": {
      "needs_background": "light"
     },
     "output_type": "display_data"
    }
   ],
   "source": [
    "# Pricing score has not much significany effect but there are vehicle which has high price for higher pricing score\n",
    "y=df['Selling_Price']\n",
    "X=df['Pricing_Score']\n",
    "plt.scatter(X,y)"
   ]
  },
  {
   "cell_type": "code",
   "execution_count": 34,
   "metadata": {},
   "outputs": [
    {
     "data": {
      "text/plain": [
       "<matplotlib.collections.PathCollection at 0x1ded9a27c50>"
      ]
     },
     "execution_count": 34,
     "metadata": {},
     "output_type": "execute_result"
    },
    {
     "data": {
      "image/png": "[encoded data removed]",
      "text/plain": [
       "<Figure size 432x288 with 1 Axes>"
      ]
     },
     "metadata": {
      "needs_background": "light"
     },
     "output_type": "display_data"
    }
   ],
   "source": [
    "# Transparency score also has no effect on the selling price\n",
    "y=df['Selling_Price']\n",
    "X=df['Transparency_Score']\n",
    "plt.scatter(X,y)"
   ]
  },
  {
   "cell_type": "code",
   "execution_count": 35,
   "metadata": {},
   "outputs": [
    {
     "data": {
      "text/plain": [
       "<matplotlib.collections.PathCollection at 0x1ded9c96be0>"
      ]
     },
     "execution_count": 35,
     "metadata": {},
     "output_type": "execute_result"
    },
    {
     "data": {
      "image/png": "[encoded data removed]",
      "text/plain": [
       "<Figure size 432x288 with 1 Axes>"
      ]
     },
     "metadata": {
      "needs_background": "light"
     },
     "output_type": "display_data"
    }
   ],
   "source": [
    "# So there seems a postive relationship between on_road_price and selling price, So on_road_price is an important factor\n",
    "y=df['Selling_Price']\n",
    "X=df['On_Road_Price']\n",
    "plt.ylabel('Selling Price')\n",
    "plt.xlabel('On road price')\n",
    "plt.scatter(X,y)"
   ]
  },
  {
   "cell_type": "code",
   "execution_count": 36,
   "metadata": {},
   "outputs": [
    {
     "data": {
      "text/plain": [
       "<matplotlib.collections.PathCollection at 0x1dedb00ef98>"
      ]
     },
     "execution_count": 36,
     "metadata": {},
     "output_type": "execute_result"
    },
    {
     "data": {
      "image/png": "[encoded data removed]",
      "text/plain": [
       "<Figure size 432x288 with 1 Axes>"
      ]
     },
     "metadata": {
      "needs_background": "light"
     },
     "output_type": "display_data"
    }
   ],
   "source": [
    "# There is no relation as such between year and selling price\n",
    "y=df['Selling_Price']\n",
    "X=df['Year']\n",
    "plt.scatter(X,y)"
   ]
  },
  {
   "cell_type": "code",
   "execution_count": 37,
   "metadata": {},
   "outputs": [
    {
     "data": {
      "text/plain": [
       "<matplotlib.collections.PathCollection at 0x1ded9ba0710>"
      ]
     },
     "execution_count": 37,
     "metadata": {},
     "output_type": "execute_result"
    },
    {
     "data": {
      "image/png": "[encoded data removed]",
      "text/plain": [
       "<Figure size 432x288 with 1 Axes>"
      ]
     },
     "metadata": {
      "needs_background": "light"
     },
     "output_type": "display_data"
    }
   ],
   "source": [
    "# It has not that prominent relation but we can say that for higher score the price is compartively high,for those where\n",
    "# the score is high and the price is low,maybe the other factors are not that good for that vehicle\n",
    "y=df['Selling_Price']\n",
    "X=df['Seller_Score']\n",
    "plt.scatter(X,y)"
   ]
  },
  {
   "cell_type": "code",
   "execution_count": 38,
   "metadata": {},
   "outputs": [
    {
     "data": {
      "text/plain": [
       "<matplotlib.collections.PathCollection at 0x1ded9c37588>"
      ]
     },
     "execution_count": 38,
     "metadata": {},
     "output_type": "execute_result"
    },
    {
     "data": {
      "image/png": "[encoded data removed]",
      "text/plain": [
       "<Figure size 432x288 with 1 Axes>"
      ]
     },
     "metadata": {
      "needs_background": "light"
     },
     "output_type": "display_data"
    }
   ],
   "source": [
    "# For higher value of engine displacement there are vehicle which has high price but this is very few in number\n",
    "y=df['Selling_Price']\n",
    "X=df['Engine_Displacement']\n",
    "plt.ylabel('Selling Price')\n",
    "plt.xlabel('Engine Displacement')\n",
    "plt.scatter(X,y)"
   ]
  },
  {
   "cell_type": "code",
   "execution_count": 39,
   "metadata": {},
   "outputs": [
    {
     "data": {
      "text/plain": [
       "<matplotlib.collections.PathCollection at 0x1ded9652e80>"
      ]
     },
     "execution_count": 39,
     "metadata": {},
     "output_type": "execute_result"
    },
    {
     "data": {
      "image/png": "[encoded data removed]",
      "text/plain": [
       "<Figure size 432x288 with 1 Axes>"
      ]
     },
     "metadata": {
      "needs_background": "light"
     },
     "output_type": "display_data"
    }
   ],
   "source": [
    "y=df['Selling_Price']\n",
    "X=df['Fuel_Efficiency']\n",
    "plt.scatter(X,y)"
   ]
  },
  {
   "cell_type": "code",
   "execution_count": 40,
   "metadata": {},
   "outputs": [
    {
     "data": {
      "text/plain": [
       "<matplotlib.collections.PathCollection at 0x1ded9bedb00>"
      ]
     },
     "execution_count": 40,
     "metadata": {},
     "output_type": "execute_result"
    },
    {
     "data": {
      "image/png": "[encoded data removed]",
      "text/plain": [
       "<Figure size 432x288 with 1 Axes>"
      ]
     },
     "metadata": {
      "needs_background": "light"
     },
     "output_type": "display_data"
    }
   ],
   "source": [
    "y=df['Selling_Price']\n",
    "X=df['Kilometers_Driven']\n",
    "plt.scatter(X,y)"
   ]
  },
  {
   "cell_type": "code",
   "execution_count": 41,
   "metadata": {},
   "outputs": [],
   "source": [
    "# Out of all the factors the on_road_price seems to have positive effect on selling price"
   ]
  },
  {
   "cell_type": "code",
   "execution_count": 42,
   "metadata": {},
   "outputs": [
    {
     "data": {
      "text/html": [
       "<div>\n",
       "<style scoped>\n",
       "    .dataframe tbody tr th:only-of-type {\n",
       "        vertical-align: middle;\n",
       "    }\n",
       "\n",
       "    .dataframe tbody tr th {\n",
       "        vertical-align: top;\n",
       "    }\n",
       "\n",
       "    .dataframe thead th {\n",
       "        text-align: right;\n",
       "    }\n",
       "</style>\n",
       "<table border=\"1\" class=\"dataframe\">\n",
       "  <thead>\n",
       "    <tr style=\"text-align: right;\">\n",
       "      <th></th>\n",
       "      <th>On_Road_Price</th>\n",
       "      <th>Rating</th>\n",
       "      <th>Transparency_Score</th>\n",
       "      <th>Seller_Score</th>\n",
       "      <th>Health_Score</th>\n",
       "      <th>Pricing_Score</th>\n",
       "      <th>Make</th>\n",
       "      <th>Year</th>\n",
       "      <th>Exterior_Color</th>\n",
       "      <th>Interior_Color</th>\n",
       "      <th>...</th>\n",
       "      <th>Seating_Capacity</th>\n",
       "      <th>Fuel_Tank_Capacity</th>\n",
       "      <th>Location</th>\n",
       "      <th>Registration_State</th>\n",
       "      <th>Kilometers_Driven</th>\n",
       "      <th>Seller_Type</th>\n",
       "      <th>Number_of_Owners</th>\n",
       "      <th>Engine_Displacement</th>\n",
       "      <th>Fuel_Efficiency</th>\n",
       "      <th>Selling_Price</th>\n",
       "    </tr>\n",
       "  </thead>\n",
       "  <tbody>\n",
       "    <tr>\n",
       "      <th>0</th>\n",
       "      <td>646545</td>\n",
       "      <td>7.0</td>\n",
       "      <td>6.4</td>\n",
       "      <td>9.5</td>\n",
       "      <td>3.8</td>\n",
       "      <td>8.9</td>\n",
       "      <td>hyundai</td>\n",
       "      <td>2012</td>\n",
       "      <td>White</td>\n",
       "      <td>Beige</td>\n",
       "      <td>...</td>\n",
       "      <td>5.0</td>\n",
       "      <td>35.0</td>\n",
       "      <td>mumbai</td>\n",
       "      <td>Maharashtra</td>\n",
       "      <td>70000</td>\n",
       "      <td>Dealer</td>\n",
       "      <td>Second Owner</td>\n",
       "      <td>1197.0</td>\n",
       "      <td>18.0</td>\n",
       "      <td>290000</td>\n",
       "    </tr>\n",
       "    <tr>\n",
       "      <th>1</th>\n",
       "      <td>485837</td>\n",
       "      <td>6.6</td>\n",
       "      <td>6.4</td>\n",
       "      <td>9.5</td>\n",
       "      <td>3.8</td>\n",
       "      <td>7.0</td>\n",
       "      <td>hyundai</td>\n",
       "      <td>2014</td>\n",
       "      <td>Grey</td>\n",
       "      <td>Beige</td>\n",
       "      <td>...</td>\n",
       "      <td>5.0</td>\n",
       "      <td>35.0</td>\n",
       "      <td>mumbai</td>\n",
       "      <td>Maharashtra</td>\n",
       "      <td>50000</td>\n",
       "      <td>Dealer</td>\n",
       "      <td>First Owner</td>\n",
       "      <td>1197.0</td>\n",
       "      <td>20.0</td>\n",
       "      <td>330000</td>\n",
       "    </tr>\n",
       "  </tbody>\n",
       "</table>\n",
       "<p>2 rows × 24 columns</p>\n",
       "</div>"
      ],
      "text/plain": [
       "   On_Road_Price  Rating  Transparency_Score  Seller_Score  Health_Score  \\\n",
       "0         646545     7.0                 6.4           9.5           3.8   \n",
       "1         485837     6.6                 6.4           9.5           3.8   \n",
       "\n",
       "   Pricing_Score     Make  Year Exterior_Color Interior_Color  ...  \\\n",
       "0            8.9  hyundai  2012          White          Beige  ...   \n",
       "1            7.0  hyundai  2014           Grey          Beige  ...   \n",
       "\n",
       "  Seating_Capacity Fuel_Tank_Capacity Location Registration_State  \\\n",
       "0              5.0               35.0   mumbai        Maharashtra   \n",
       "1              5.0               35.0   mumbai        Maharashtra   \n",
       "\n",
       "   Kilometers_Driven  Seller_Type Number_of_Owners Engine_Displacement  \\\n",
       "0              70000       Dealer     Second Owner              1197.0   \n",
       "1              50000       Dealer      First Owner              1197.0   \n",
       "\n",
       "   Fuel_Efficiency Selling_Price  \n",
       "0             18.0        290000  \n",
       "1             20.0        330000  \n",
       "\n",
       "[2 rows x 24 columns]"
      ]
     },
     "execution_count": 42,
     "metadata": {},
     "output_type": "execute_result"
    }
   ],
   "source": [
    "# Again I am dropping Name of Vehical,model,trim and make because these are all brand related stuff,and we are predicting\n",
    "# Given the on road price and other factors given like the condition of the vehicle what should be the selling price\n",
    "df_1=df.drop(['Name_of_Vehical','Model','Trim'],axis=1)\n",
    "df_1.head(2)"
   ]
  },
  {
   "cell_type": "markdown",
   "metadata": {},
   "source": [
    " So as we can see that there is a difference of 40000 between a diesel vehicle and petrol vehicle, this is an important indicator for us.\n"
   ]
  },
  {
   "cell_type": "code",
   "execution_count": 43,
   "metadata": {},
   "outputs": [],
   "source": [
    "df_2=df_1"
   ]
  },
  {
   "cell_type": "code",
   "execution_count": 44,
   "metadata": {},
   "outputs": [
    {
     "data": {
      "text/plain": [
       "On_Road_Price            0\n",
       "Rating                   0\n",
       "Transparency_Score       0\n",
       "Seller_Score             0\n",
       "Health_Score             0\n",
       "Pricing_Score            0\n",
       "Make                     0\n",
       "Year                     0\n",
       "Exterior_Color           1\n",
       "Interior_Color           2\n",
       "Fuel_Type                0\n",
       "Transmission_Type        6\n",
       "Body_Type               19\n",
       "Interior_Furnishing     68\n",
       "Seating_Capacity       223\n",
       "Fuel_Tank_Capacity     223\n",
       "Location                 0\n",
       "Registration_State       9\n",
       "Kilometers_Driven        0\n",
       "Seller_Type             78\n",
       "Number_of_Owners         3\n",
       "Engine_Displacement     10\n",
       "Fuel_Efficiency        108\n",
       "Selling_Price            0\n",
       "dtype: int64"
      ]
     },
     "execution_count": 44,
     "metadata": {},
     "output_type": "execute_result"
    }
   ],
   "source": [
    "df_2.isnull().sum()"
   ]
  },
  {
   "cell_type": "code",
   "execution_count": 45,
   "metadata": {},
   "outputs": [],
   "source": [
    "# Filling missing values\n",
    "import statistics as st\n",
    "df_2[\"Fuel_Tank_Capacity\"].replace(to_replace=np.NaN,value=np.mean(df_2[\"Fuel_Tank_Capacity\"]),inplace = True) \n",
    "df_2[\"Fuel_Efficiency\"].replace(to_replace=np.NaN,value=np.mean(df_2[\"Fuel_Efficiency\"]),inplace = True) \n",
    "df_2[\"Engine_Displacement\"].fillna(method='ffill',inplace= True)\n",
    "df_2[\"Interior_Furnishing\"].fillna(method='ffill',inplace= True)\n",
    "df_2['Seating_Capacity'].fillna(method='ffill',inplace= True)\n",
    "df_2[\"Transmission_Type\"].replace(to_replace=np.NaN,value=st.mode(df_2['Transmission_Type']),inplace = True)\n",
    "df_2[\"Number_of_Owners\"].replace(to_replace=np.NaN,value=st.mode(df_2['Number_of_Owners']),inplace = True)\n",
    "df_2[\"Body_Type\"].fillna(method='ffill',inplace= True)\n",
    "df_2[\"On_Road_Price\"].replace(to_replace=0,value=np.mean(df_2['On_Road_Price']),inplace = True)\n",
    "df_2[\"Interior_Color\"].fillna(method='ffill',inplace=True)\n",
    "df_2[\"Exterior_Color\"].replace(to_replace=np.NaN,value=st.mode(df_2['Exterior_Color']),inplace = True)\n",
    "df_2[\"Seller_Type\"].fillna(method='ffill',inplace= True)"
   ]
  },
  {
   "cell_type": "code",
   "execution_count": 46,
   "metadata": {},
   "outputs": [
    {
     "data": {
      "text/plain": [
       "On_Road_Price          0\n",
       "Rating                 0\n",
       "Transparency_Score     0\n",
       "Seller_Score           0\n",
       "Health_Score           0\n",
       "Pricing_Score          0\n",
       "Make                   0\n",
       "Year                   0\n",
       "Exterior_Color         0\n",
       "Interior_Color         0\n",
       "Fuel_Type              0\n",
       "Transmission_Type      0\n",
       "Body_Type              0\n",
       "Interior_Furnishing    0\n",
       "Seating_Capacity       0\n",
       "Fuel_Tank_Capacity     0\n",
       "Kilometers_Driven      0\n",
       "Seller_Type            0\n",
       "Number_of_Owners       0\n",
       "Engine_Displacement    0\n",
       "Fuel_Efficiency        0\n",
       "Selling_Price          0\n",
       "dtype: int64"
      ]
     },
     "execution_count": 46,
     "metadata": {},
     "output_type": "execute_result"
    }
   ],
   "source": [
    "# Dropping location and state because they contain only one value\n",
    "df_2=df_2.drop(['Location','Registration_State'],axis=1)\n",
    "df_2.isnull().sum()"
   ]
  },
  {
   "cell_type": "code",
   "execution_count": 48,
   "metadata": {},
   "outputs": [],
   "source": [
    "# Converting categorical into quantitative\n",
    "from sklearn.preprocessing import OneHotEncoder \n",
    "Fuel_Type=pd.get_dummies(df_2.Fuel_Type,drop_first=True)\n",
    "Transmission_Type=pd.get_dummies(df_2.Transmission_Type,drop_first=True)\n",
    "Body_Type=pd.get_dummies(df_2.Body_Type,drop_first=True)\n",
    "Interior_Furnishing=pd.get_dummies(df_2.Interior_Furnishing,drop_first=True)\n",
    "Seller_Type=pd.get_dummies(df_2.Seller_Type,drop_first=True)\n",
    "Number_of_Owners=pd.get_dummies(df_2.Number_of_Owners,drop_first=True)\n",
    "Interior_Color=pd.get_dummies(df_2.Interior_Color,drop_first=True)\n",
    "Exterior_Color=pd.get_dummies(df_2.Exterior_Color,drop_first=True)\n",
    "df_2=pd.concat([df_2,Fuel_Type,Transmission_Type,Body_Type,Interior_Furnishing,Number_of_Owners,Seller_Type ],axis=1)"
   ]
  },
  {
   "cell_type": "code",
   "execution_count": 49,
   "metadata": {},
   "outputs": [],
   "source": [
    "\n",
    "df_2=df_2.drop(['Fuel_Type','Transmission_Type','Body_Type','Interior_Furnishing','Number_of_Owners','Seller_Type',\n",
    "              'Interior_Color','Exterior_Color' ],axis=1)"
   ]
  },
  {
   "cell_type": "code",
   "execution_count": 52,
   "metadata": {},
   "outputs": [
    {
     "data": {
      "text/html": [
       "<div>\n",
       "<style scoped>\n",
       "    .dataframe tbody tr th:only-of-type {\n",
       "        vertical-align: middle;\n",
       "    }\n",
       "\n",
       "    .dataframe tbody tr th {\n",
       "        vertical-align: top;\n",
       "    }\n",
       "\n",
       "    .dataframe thead th {\n",
       "        text-align: right;\n",
       "    }\n",
       "</style>\n",
       "<table border=\"1\" class=\"dataframe\">\n",
       "  <thead>\n",
       "    <tr style=\"text-align: right;\">\n",
       "      <th></th>\n",
       "      <th>On_Road_Price</th>\n",
       "      <th>Rating</th>\n",
       "      <th>Transparency_Score</th>\n",
       "      <th>Seller_Score</th>\n",
       "      <th>Health_Score</th>\n",
       "      <th>Pricing_Score</th>\n",
       "      <th>Make</th>\n",
       "      <th>Year</th>\n",
       "      <th>Seating_Capacity</th>\n",
       "      <th>Fuel_Tank_Capacity</th>\n",
       "      <th>...</th>\n",
       "      <th>Sedan</th>\n",
       "      <th>Leather</th>\n",
       "      <th>Leatherette</th>\n",
       "      <th>Other</th>\n",
       "      <th>First Owner</th>\n",
       "      <th>Fourth Owner</th>\n",
       "      <th>Second Owner</th>\n",
       "      <th>Third Owner</th>\n",
       "      <th>Dealer</th>\n",
       "      <th>Private Party</th>\n",
       "    </tr>\n",
       "  </thead>\n",
       "  <tbody>\n",
       "    <tr>\n",
       "      <th>0</th>\n",
       "      <td>646545.0</td>\n",
       "      <td>7.0</td>\n",
       "      <td>6.4</td>\n",
       "      <td>9.5</td>\n",
       "      <td>3.8</td>\n",
       "      <td>8.9</td>\n",
       "      <td>4</td>\n",
       "      <td>2012</td>\n",
       "      <td>5.0</td>\n",
       "      <td>35.0</td>\n",
       "      <td>...</td>\n",
       "      <td>0</td>\n",
       "      <td>1</td>\n",
       "      <td>0</td>\n",
       "      <td>0</td>\n",
       "      <td>0</td>\n",
       "      <td>0</td>\n",
       "      <td>1</td>\n",
       "      <td>0</td>\n",
       "      <td>1</td>\n",
       "      <td>0</td>\n",
       "    </tr>\n",
       "    <tr>\n",
       "      <th>1</th>\n",
       "      <td>485837.0</td>\n",
       "      <td>6.6</td>\n",
       "      <td>6.4</td>\n",
       "      <td>9.5</td>\n",
       "      <td>3.8</td>\n",
       "      <td>7.0</td>\n",
       "      <td>4</td>\n",
       "      <td>2014</td>\n",
       "      <td>5.0</td>\n",
       "      <td>35.0</td>\n",
       "      <td>...</td>\n",
       "      <td>0</td>\n",
       "      <td>1</td>\n",
       "      <td>0</td>\n",
       "      <td>0</td>\n",
       "      <td>1</td>\n",
       "      <td>0</td>\n",
       "      <td>0</td>\n",
       "      <td>0</td>\n",
       "      <td>1</td>\n",
       "      <td>0</td>\n",
       "    </tr>\n",
       "  </tbody>\n",
       "</table>\n",
       "<p>2 rows × 31 columns</p>\n",
       "</div>"
      ],
      "text/plain": [
       "   On_Road_Price  Rating  Transparency_Score  Seller_Score  Health_Score  \\\n",
       "0       646545.0     7.0                 6.4           9.5           3.8   \n",
       "1       485837.0     6.6                 6.4           9.5           3.8   \n",
       "\n",
       "   Pricing_Score  Make  Year  Seating_Capacity  Fuel_Tank_Capacity  ...  \\\n",
       "0            8.9     4  2012               5.0                35.0  ...   \n",
       "1            7.0     4  2014               5.0                35.0  ...   \n",
       "\n",
       "   Sedan  Leather  Leatherette  Other  First Owner  Fourth Owner  \\\n",
       "0      0        1            0      0            0             0   \n",
       "1      0        1            0      0            1             0   \n",
       "\n",
       "   Second Owner  Third Owner  Dealer  Private Party  \n",
       "0             1            0       1              0  \n",
       "1             0            0       1              0  \n",
       "\n",
       "[2 rows x 31 columns]"
      ]
     },
     "execution_count": 52,
     "metadata": {},
     "output_type": "execute_result"
    }
   ],
   "source": [
    "from sklearn.preprocessing import LabelEncoder\n",
    "le=LabelEncoder()\n",
    "df_2['Make']= le.fit_transform(df_2['Make']) \n",
    "df_2.head(2)"
   ]
  },
  {
   "cell_type": "code",
   "execution_count": 53,
   "metadata": {},
   "outputs": [],
   "source": [
    "df_3=df_2.pop('Selling_Price')\n",
    "df_2['Selling_Price']=df_3"
   ]
  },
  {
   "cell_type": "code",
   "execution_count": 56,
   "metadata": {},
   "outputs": [],
   "source": [
    "# Dividing the dataset into predictor variable and response variable\n",
    "X=df_2.iloc[:,0 : -1]\n",
    "y=df_2.iloc[:,-1 :]"
   ]
  },
  {
   "cell_type": "code",
   "execution_count": 57,
   "metadata": {},
   "outputs": [
    {
     "data": {
      "text/html": [
       "<div>\n",
       "<style scoped>\n",
       "    .dataframe tbody tr th:only-of-type {\n",
       "        vertical-align: middle;\n",
       "    }\n",
       "\n",
       "    .dataframe tbody tr th {\n",
       "        vertical-align: top;\n",
       "    }\n",
       "\n",
       "    .dataframe thead th {\n",
       "        text-align: right;\n",
       "    }\n",
       "</style>\n",
       "<table border=\"1\" class=\"dataframe\">\n",
       "  <thead>\n",
       "    <tr style=\"text-align: right;\">\n",
       "      <th></th>\n",
       "      <th>VIF Factor</th>\n",
       "      <th>features</th>\n",
       "    </tr>\n",
       "  </thead>\n",
       "  <tbody>\n",
       "    <tr>\n",
       "      <th>0</th>\n",
       "      <td>21.857581</td>\n",
       "      <td>On_Road_Price</td>\n",
       "    </tr>\n",
       "    <tr>\n",
       "      <th>1</th>\n",
       "      <td>660.514134</td>\n",
       "      <td>Rating</td>\n",
       "    </tr>\n",
       "    <tr>\n",
       "      <th>2</th>\n",
       "      <td>102.382239</td>\n",
       "      <td>Transparency_Score</td>\n",
       "    </tr>\n",
       "    <tr>\n",
       "      <th>3</th>\n",
       "      <td>37.232639</td>\n",
       "      <td>Seller_Score</td>\n",
       "    </tr>\n",
       "    <tr>\n",
       "      <th>4</th>\n",
       "      <td>61.215806</td>\n",
       "      <td>Health_Score</td>\n",
       "    </tr>\n",
       "    <tr>\n",
       "      <th>5</th>\n",
       "      <td>49.469265</td>\n",
       "      <td>Pricing_Score</td>\n",
       "    </tr>\n",
       "    <tr>\n",
       "      <th>6</th>\n",
       "      <td>7.041604</td>\n",
       "      <td>Make</td>\n",
       "    </tr>\n",
       "    <tr>\n",
       "      <th>7</th>\n",
       "      <td>3407.579967</td>\n",
       "      <td>Year</td>\n",
       "    </tr>\n",
       "    <tr>\n",
       "      <th>8</th>\n",
       "      <td>1333.130729</td>\n",
       "      <td>Seating_Capacity</td>\n",
       "    </tr>\n",
       "    <tr>\n",
       "      <th>9</th>\n",
       "      <td>184.441121</td>\n",
       "      <td>Fuel_Tank_Capacity</td>\n",
       "    </tr>\n",
       "    <tr>\n",
       "      <th>10</th>\n",
       "      <td>3.786367</td>\n",
       "      <td>Kilometers_Driven</td>\n",
       "    </tr>\n",
       "    <tr>\n",
       "      <th>11</th>\n",
       "      <td>198.964116</td>\n",
       "      <td>Engine_Displacement</td>\n",
       "    </tr>\n",
       "    <tr>\n",
       "      <th>12</th>\n",
       "      <td>52.698201</td>\n",
       "      <td>Fuel_Efficiency</td>\n",
       "    </tr>\n",
       "    <tr>\n",
       "      <th>13</th>\n",
       "      <td>4.806880</td>\n",
       "      <td>Petrol</td>\n",
       "    </tr>\n",
       "    <tr>\n",
       "      <th>14</th>\n",
       "      <td>1.035707</td>\n",
       "      <td>Petrol + CNG</td>\n",
       "    </tr>\n",
       "    <tr>\n",
       "      <th>15</th>\n",
       "      <td>38.703808</td>\n",
       "      <td>Automatic</td>\n",
       "    </tr>\n",
       "    <tr>\n",
       "      <th>16</th>\n",
       "      <td>516.533510</td>\n",
       "      <td>Manual</td>\n",
       "    </tr>\n",
       "    <tr>\n",
       "      <th>17</th>\n",
       "      <td>407.589165</td>\n",
       "      <td>Hatchback</td>\n",
       "    </tr>\n",
       "    <tr>\n",
       "      <th>18</th>\n",
       "      <td>2.305742</td>\n",
       "      <td>MUV</td>\n",
       "    </tr>\n",
       "    <tr>\n",
       "      <th>19</th>\n",
       "      <td>151.356883</td>\n",
       "      <td>SUV</td>\n",
       "    </tr>\n",
       "    <tr>\n",
       "      <th>20</th>\n",
       "      <td>36.635208</td>\n",
       "      <td>Sedan</td>\n",
       "    </tr>\n",
       "    <tr>\n",
       "      <th>21</th>\n",
       "      <td>1.206228</td>\n",
       "      <td>Leather</td>\n",
       "    </tr>\n",
       "    <tr>\n",
       "      <th>22</th>\n",
       "      <td>1.291690</td>\n",
       "      <td>Leatherette</td>\n",
       "    </tr>\n",
       "    <tr>\n",
       "      <th>23</th>\n",
       "      <td>1.031562</td>\n",
       "      <td>Other</td>\n",
       "    </tr>\n",
       "    <tr>\n",
       "      <th>24</th>\n",
       "      <td>424.565292</td>\n",
       "      <td>First Owner</td>\n",
       "    </tr>\n",
       "    <tr>\n",
       "      <th>25</th>\n",
       "      <td>5.168011</td>\n",
       "      <td>Fourth Owner</td>\n",
       "    </tr>\n",
       "    <tr>\n",
       "      <th>26</th>\n",
       "      <td>123.883229</td>\n",
       "      <td>Second Owner</td>\n",
       "    </tr>\n",
       "    <tr>\n",
       "      <th>27</th>\n",
       "      <td>17.378720</td>\n",
       "      <td>Third Owner</td>\n",
       "    </tr>\n",
       "    <tr>\n",
       "      <th>28</th>\n",
       "      <td>71.053453</td>\n",
       "      <td>Dealer</td>\n",
       "    </tr>\n",
       "    <tr>\n",
       "      <th>29</th>\n",
       "      <td>1.175957</td>\n",
       "      <td>Private Party</td>\n",
       "    </tr>\n",
       "  </tbody>\n",
       "</table>\n",
       "</div>"
      ],
      "text/plain": [
       "     VIF Factor             features\n",
       "0     21.857581        On_Road_Price\n",
       "1    660.514134               Rating\n",
       "2    102.382239   Transparency_Score\n",
       "3     37.232639         Seller_Score\n",
       "4     61.215806         Health_Score\n",
       "5     49.469265        Pricing_Score\n",
       "6      7.041604                 Make\n",
       "7   3407.579967                 Year\n",
       "8   1333.130729     Seating_Capacity\n",
       "9    184.441121   Fuel_Tank_Capacity\n",
       "10     3.786367    Kilometers_Driven\n",
       "11   198.964116  Engine_Displacement\n",
       "12    52.698201      Fuel_Efficiency\n",
       "13     4.806880               Petrol\n",
       "14     1.035707         Petrol + CNG\n",
       "15    38.703808            Automatic\n",
       "16   516.533510               Manual\n",
       "17   407.589165            Hatchback\n",
       "18     2.305742                  MUV\n",
       "19   151.356883                  SUV\n",
       "20    36.635208                Sedan\n",
       "21     1.206228              Leather\n",
       "22     1.291690          Leatherette\n",
       "23     1.031562                Other\n",
       "24   424.565292          First Owner\n",
       "25     5.168011         Fourth Owner\n",
       "26   123.883229         Second Owner\n",
       "27    17.378720          Third Owner\n",
       "28    71.053453               Dealer\n",
       "29     1.175957        Private Party"
      ]
     },
     "execution_count": 57,
     "metadata": {},
     "output_type": "execute_result"
    }
   ],
   "source": [
    "# There are some features which has high VIF \n",
    "from statsmodels.stats.outliers_influence import variance_inflation_factor\n",
    "vif = pd.DataFrame()\n",
    "vif[\"VIF Factor\"] = [variance_inflation_factor(X.values, i) for i in range(X.shape[1])]\n",
    "vif[\"features\"] = X.columns\n",
    "vif"
   ]
  },
  {
   "cell_type": "code",
   "execution_count": 58,
   "metadata": {},
   "outputs": [],
   "source": [
    "#Splitting the dataset into train and test part\n",
    "from sklearn.model_selection import train_test_split\n",
    "seed = 10\n",
    "test_size = 0.2\n",
    "X_train, X_test, y_train, y_test = train_test_split(X, y, test_size = test_size, random_state = seed) "
   ]
  },
  {
   "cell_type": "code",
   "execution_count": 59,
   "metadata": {},
   "outputs": [
    {
     "data": {
      "text/plain": [
       "LinearRegression(copy_X=True, fit_intercept=True, n_jobs=None, normalize=False)"
      ]
     },
     "execution_count": 59,
     "metadata": {},
     "output_type": "execute_result"
    }
   ],
   "source": [
    "from sklearn.linear_model import LinearRegression\n",
    "model = LinearRegression()\n",
    "model.fit(X_train,y_train)"
   ]
  },
  {
   "cell_type": "code",
   "execution_count": 60,
   "metadata": {},
   "outputs": [],
   "source": [
    "y_pred_train=model.predict(X_train)\n",
    "y_pred_1 = model.predict(X_test)"
   ]
  },
  {
   "cell_type": "code",
   "execution_count": 61,
   "metadata": {
    "scrolled": true
   },
   "outputs": [
    {
     "name": "stdout",
     "output_type": "stream",
     "text": [
      "0.5902170529433963\n",
      "0.6046324965411275\n"
     ]
    }
   ],
   "source": [
    "from sklearn.metrics import r2_score\n",
    "from sklearn.metrics import mean_squared_error\n",
    "print(r2_score(y_train,y_pred_train))\n",
    "print(r2_score(y_test,y_pred_1))"
   ]
  },
  {
   "cell_type": "code",
   "execution_count": 62,
   "metadata": {},
   "outputs": [
    {
     "name": "stdout",
     "output_type": "stream",
     "text": [
      "Selling_Price    125658.606185\n",
      "dtype: float64\n"
     ]
    }
   ],
   "source": [
    "# The Test MSE\n",
    "#y_pred_1 = model.predict(X_test)\n",
    "RMSE_test = np.sqrt(np.mean(((y_test - y_pred_1)**2)))\n",
    "print(RMSE_test)"
   ]
  },
  {
   "cell_type": "code",
   "execution_count": 63,
   "metadata": {},
   "outputs": [
    {
     "name": "stdout",
     "output_type": "stream",
     "text": [
      "Selling_Price    123425.528518\n",
      "dtype: float64\n"
     ]
    }
   ],
   "source": [
    "# Train MSE\n",
    "#y_pred = model.predict(X_train)\n",
    "RMSE_train = np.sqrt(np.mean(((y_train - y_pred_train)**2)))\n",
    "print(RMSE_train)"
   ]
  },
  {
   "cell_type": "code",
   "execution_count": 64,
   "metadata": {},
   "outputs": [],
   "source": [
    "# There is not much difference between train and test rmse, so we can say that the model does not overfit the test data."
   ]
  },
  {
   "cell_type": "code",
   "execution_count": 65,
   "metadata": {},
   "outputs": [],
   "source": [
    "# Residual plot\n",
    "residuals=y_train-y_pred_train"
   ]
  },
  {
   "cell_type": "code",
   "execution_count": 66,
   "metadata": {},
   "outputs": [
    {
     "data": {
      "text/plain": [
       "<matplotlib.axes._subplots.AxesSubplot at 0x1dedb1425c0>"
      ]
     },
     "execution_count": 66,
     "metadata": {},
     "output_type": "execute_result"
    },
    {
     "data": {
      "image/png": "[encoded data removed]",
      "text/plain": [
       "<Figure size 432x288 with 1 Axes>"
      ]
     },
     "metadata": {},
     "output_type": "display_data"
    }
   ],
   "source": [
    "#residual = y_train -pred_boost_train\n",
    "sns.set(style=\"whitegrid\")\n",
    "residual=y_train-y_pred_train\n",
    "x = y_pred_train\n",
    "y = residual\n",
    "sns.residplot(x, y,  color=\"r\")"
   ]
  },
  {
   "cell_type": "code",
   "execution_count": 67,
   "metadata": {},
   "outputs": [],
   "source": [
    "# The residual plot clearly shows pattern"
   ]
  },
  {
   "cell_type": "code",
   "execution_count": 47,
   "metadata": {},
   "outputs": [
    {
     "data": {
      "image/png": "[encoded data removed]",
      "text/plain": [
       "<Figure size 432x288 with 1 Axes>"
      ]
     },
     "metadata": {},
     "output_type": "display_data"
    }
   ],
   "source": [
    "import statsmodels.api as sm \n",
    "import pylab as py \n",
    "residual=y_train-y_pred_train\n",
    "sm.qqplot(residual,line='s') \n",
    "py.show() "
   ]
  },
  {
   "cell_type": "code",
   "execution_count": 48,
   "metadata": {},
   "outputs": [],
   "source": [
    "# the residuals are not normally distributed"
   ]
  },
  {
   "cell_type": "code",
   "execution_count": 52,
   "metadata": {},
   "outputs": [],
   "source": [
    "# These features were removed on the basis of p value"
   ]
  },
  {
   "cell_type": "code",
   "execution_count": 68,
   "metadata": {},
   "outputs": [
    {
     "data": {
      "text/html": [
       "<div>\n",
       "<style scoped>\n",
       "    .dataframe tbody tr th:only-of-type {\n",
       "        vertical-align: middle;\n",
       "    }\n",
       "\n",
       "    .dataframe tbody tr th {\n",
       "        vertical-align: top;\n",
       "    }\n",
       "\n",
       "    .dataframe thead th {\n",
       "        text-align: right;\n",
       "    }\n",
       "</style>\n",
       "<table border=\"1\" class=\"dataframe\">\n",
       "  <thead>\n",
       "    <tr style=\"text-align: right;\">\n",
       "      <th></th>\n",
       "      <th>On_Road_Price</th>\n",
       "      <th>Transparency_Score</th>\n",
       "      <th>Pricing_Score</th>\n",
       "      <th>Make</th>\n",
       "      <th>Year</th>\n",
       "      <th>Petrol</th>\n",
       "      <th>Hatchback</th>\n",
       "      <th>Sedan</th>\n",
       "      <th>Dealer</th>\n",
       "    </tr>\n",
       "  </thead>\n",
       "  <tbody>\n",
       "    <tr>\n",
       "      <th>223</th>\n",
       "      <td>631587.0</td>\n",
       "      <td>5.6</td>\n",
       "      <td>8.2</td>\n",
       "      <td>7</td>\n",
       "      <td>2012</td>\n",
       "      <td>0</td>\n",
       "      <td>1</td>\n",
       "      <td>0</td>\n",
       "      <td>1</td>\n",
       "    </tr>\n",
       "    <tr>\n",
       "      <th>361</th>\n",
       "      <td>628224.0</td>\n",
       "      <td>4.3</td>\n",
       "      <td>8.6</td>\n",
       "      <td>8</td>\n",
       "      <td>2010</td>\n",
       "      <td>0</td>\n",
       "      <td>1</td>\n",
       "      <td>0</td>\n",
       "      <td>1</td>\n",
       "    </tr>\n",
       "  </tbody>\n",
       "</table>\n",
       "</div>"
      ],
      "text/plain": [
       "     On_Road_Price  Transparency_Score  Pricing_Score  Make  Year  Petrol  \\\n",
       "223       631587.0                 5.6            8.2     7  2012       0   \n",
       "361       628224.0                 4.3            8.6     8  2010       0   \n",
       "\n",
       "     Hatchback  Sedan  Dealer  \n",
       "223          1      0       1  \n",
       "361          1      0       1  "
      ]
     },
     "execution_count": 68,
     "metadata": {},
     "output_type": "execute_result"
    }
   ],
   "source": [
    "X_new=X_train.drop([ 'Rating', 'Seller_Score',\n",
    "       'Health_Score',  'Seating_Capacity',\n",
    "       'Fuel_Tank_Capacity', 'Kilometers_Driven', 'Engine_Displacement',\n",
    "       'Fuel_Efficiency', 'Petrol + CNG', 'Automatic', 'Manual',\n",
    "        'MUV', 'SUV', 'Leather', 'Leatherette', 'Other',\n",
    "       'First Owner', 'Fourth Owner', 'Second Owner', 'Third Owner',\n",
    "       'Private Party'],axis=1)\n",
    "#X_new_test.head(2)\n",
    "\n",
    "\n",
    "X_new_test=X_test.drop([ 'Rating', 'Seller_Score',\n",
    "       'Health_Score',  'Seating_Capacity',\n",
    "       'Fuel_Tank_Capacity', 'Kilometers_Driven', 'Engine_Displacement',\n",
    "       'Fuel_Efficiency', 'Petrol + CNG', 'Automatic', 'Manual',\n",
    "        'MUV', 'SUV', 'Leather', 'Leatherette', 'Other',\n",
    "       'First Owner', 'Fourth Owner', 'Second Owner', 'Third Owner',\n",
    "       'Private Party'],axis=1)\n",
    "X_new_test.head(2)"
   ]
  },
  {
   "cell_type": "code",
   "execution_count": 69,
   "metadata": {},
   "outputs": [
    {
     "name": "stdout",
     "output_type": "stream",
     "text": [
      "                            OLS Regression Results                            \n",
      "==============================================================================\n",
      "Dep. Variable:          Selling_Price   R-squared:                       0.571\n",
      "Model:                            OLS   Adj. R-squared:                  0.562\n",
      "Method:                 Least Squares   F-statistic:                     63.37\n",
      "Date:                Tue, 21 Apr 2020   Prob (F-statistic):           3.05e-73\n",
      "Time:                        21:30:22   Log-Likelihood:                -5779.7\n",
      "No. Observations:                 439   AIC:                         1.158e+04\n",
      "Df Residuals:                     429   BIC:                         1.162e+04\n",
      "Df Model:                           9                                         \n",
      "Covariance Type:            nonrobust                                         \n",
      "======================================================================================\n",
      "                         coef    std err          t      P>|t|      [0.025      0.975]\n",
      "--------------------------------------------------------------------------------------\n",
      "const              -2.203e+07   4.32e+06     -5.097      0.000   -3.05e+07   -1.35e+07\n",
      "On_Road_Price          0.4477      0.031     14.551      0.000       0.387       0.508\n",
      "Transparency_Score  2.272e+04   7497.259      3.030      0.003    7982.369    3.75e+04\n",
      "Pricing_Score      -2.367e+04   4156.712     -5.694      0.000   -3.18e+04   -1.55e+04\n",
      "Make                4179.9148   2909.218      1.437      0.152   -1538.180    9898.010\n",
      "Year                1.105e+04   2153.830      5.131      0.000    6818.343    1.53e+04\n",
      "Petrol              3.787e+04   1.53e+04      2.481      0.013    7866.141    6.79e+04\n",
      "Hatchback          -9.345e+04   2.27e+04     -4.108      0.000   -1.38e+05   -4.87e+04\n",
      "Sedan              -1.189e+05   3.18e+04     -3.742      0.000   -1.81e+05   -5.64e+04\n",
      "Dealer             -1.025e+05   4.62e+04     -2.219      0.027   -1.93e+05   -1.17e+04\n",
      "==============================================================================\n",
      "Omnibus:                       47.044   Durbin-Watson:                   1.953\n",
      "Prob(Omnibus):                  0.000   Jarque-Bera (JB):              181.256\n",
      "Skew:                           0.382   Prob(JB):                     4.37e-40\n",
      "Kurtosis:                       6.054   Cond. No.                     5.86e+08\n",
      "==============================================================================\n",
      "\n",
      "Warnings:\n",
      "[1] Standard Errors assume that the covariance matrix of the errors is correctly specified.\n",
      "[2] The condition number is large, 5.86e+08. This might indicate that there are\n",
      "strong multicollinearity or other numerical problems.\n"
     ]
    }
   ],
   "source": [
    "# Removing unimportant features\n",
    "import statsmodels.api as sm\n",
    "X_new = sm.add_constant(X_new)\n",
    "regression_ols=sm.OLS(y_train,X_new)\n",
    "model_1=regression_ols.fit()\n",
    "print(model_1.summary())\n",
    "# this is final outcome and the features which are important"
   ]
  },
  {
   "cell_type": "code",
   "execution_count": 70,
   "metadata": {},
   "outputs": [],
   "source": [
    "X_new_test = sm.add_constant(X_new_test)"
   ]
  },
  {
   "cell_type": "code",
   "execution_count": 71,
   "metadata": {},
   "outputs": [],
   "source": [
    "y_pred=model_1.predict(X_new)\n",
    "y_pred_1 = model_1.predict(X_new_test)"
   ]
  },
  {
   "cell_type": "code",
   "execution_count": 73,
   "metadata": {},
   "outputs": [
    {
     "name": "stdout",
     "output_type": "stream",
     "text": [
      "R-Square: 0.570728874003964\n"
     ]
    }
   ],
   "source": [
    "from sklearn.metrics import r2_score\n",
    "print(\"R-Square:\",r2_score(y_train,y_pred))"
   ]
  },
  {
   "cell_type": "code",
   "execution_count": 76,
   "metadata": {},
   "outputs": [
    {
     "name": "stdout",
     "output_type": "stream",
     "text": [
      "Train RMSE: 126326.33416685903\n",
      "Test RMSE: 126326.33416685903\n"
     ]
    }
   ],
   "source": [
    "# RMSE\n",
    "from sklearn.metrics import mean_squared_error\n",
    "y_pred_1 = model_1.predict(X_new_test)\n",
    "RMSE_test =np.sqrt(mean_squared_error(y_test,y_pred_1))\n",
    "y_pred_2 = model_1.predict(X_new)\n",
    "RMSE_test =np.sqrt(mean_squared_error(y_train,y_pred_2))\n",
    "print(\"Train RMSE:\",RMSE_test)\n",
    "print(\"Test RMSE:\",RMSE_test)"
   ]
  },
  {
   "cell_type": "markdown",
   "metadata": {},
   "source": [
    "## Scaling The Data"
   ]
  },
  {
   "cell_type": "code",
   "execution_count": 60,
   "metadata": {},
   "outputs": [],
   "source": [
    "from sklearn.preprocessing import StandardScaler,MinMaxScaler\n",
    "sc=MinMaxScaler(feature_range=(0,1))\n",
    "#sc=StandardScaler()\n",
    "X_train_s=sc.fit_transform(X_new)\n",
    "X_test_s=sc.fit_transform(X_new_test)\n",
    "y_train_s=sc.fit_transform(y_train)\n",
    "y_test_s=sc.fit_transform(y_test)"
   ]
  },
  {
   "cell_type": "code",
   "execution_count": 61,
   "metadata": {},
   "outputs": [
    {
     "data": {
      "text/plain": [
       "LinearRegression(copy_X=True, fit_intercept=True, n_jobs=None, normalize=False)"
      ]
     },
     "execution_count": 61,
     "metadata": {},
     "output_type": "execute_result"
    }
   ],
   "source": [
    "from sklearn.linear_model import LinearRegression\n",
    "model_sc = LinearRegression()\n",
    "model_sc.fit(X_train_s,y_train)"
   ]
  },
  {
   "cell_type": "code",
   "execution_count": 62,
   "metadata": {},
   "outputs": [],
   "source": [
    "y_pred_sc=model_sc.predict(X_test_s)\n",
    "y_pred_train_sc=model_sc.predict(X_train_s)"
   ]
  },
  {
   "cell_type": "code",
   "execution_count": 63,
   "metadata": {},
   "outputs": [
    {
     "name": "stdout",
     "output_type": "stream",
     "text": [
      "-9302495768516.254\n",
      "-12313536543627.863\n"
     ]
    }
   ],
   "source": [
    "from sklearn.metrics import r2_score\n",
    "print(r2_score(y_train_s,y_pred_train_sc))\n",
    "print(r2_score(y_test_s,y_pred_sc))\n"
   ]
  },
  {
   "cell_type": "code",
   "execution_count": 64,
   "metadata": {},
   "outputs": [
    {
     "name": "stdout",
     "output_type": "stream",
     "text": [
      "126326.33416685878\n",
      "136546.58125224634\n"
     ]
    }
   ],
   "source": [
    "print(np.sqrt(mean_squared_error(y_train,y_pred_train_sc)))\n",
    "print(np.sqrt(mean_squared_error(y_test,y_pred_sc)))"
   ]
  },
  {
   "cell_type": "code",
   "execution_count": 65,
   "metadata": {},
   "outputs": [
    {
     "data": {
      "image/png": "[encoded data removed]",
      "text/plain": [
       "<Figure size 432x288 with 1 Axes>"
      ]
     },
     "metadata": {},
     "output_type": "display_data"
    }
   ],
   "source": [
    "#residual plot\n",
    "residual = y_train -y_pred_train\n",
    "plt.scatter(y_train, residual)\n",
    "#p#lt.plot([0, 1],[0,1],'r')\n",
    "plt.xlabel(\"Fitted_Value\")\n",
    "plt.ylabel(\"Residual\")\n",
    "plt.title(\"Residual Plot\")\n",
    "plt.show()"
   ]
  },
  {
   "cell_type": "code",
   "execution_count": 66,
   "metadata": {},
   "outputs": [
    {
     "data": {
      "image/png": "[encoded data removed]",
      "text/plain": [
       "<Figure size 432x288 with 1 Axes>"
      ]
     },
     "metadata": {},
     "output_type": "display_data"
    }
   ],
   "source": [
    "import statsmodels.api as sm \n",
    "import pylab as py \n",
    "residual=y_train-y_pred_train_sc\n",
    "sm.qqplot(residual,line='s') \n",
    "py.show()"
   ]
  },
  {
   "cell_type": "code",
   "execution_count": 67,
   "metadata": {},
   "outputs": [],
   "source": [
    "# The residuas are not normally distributed. And cleary after performing scaling there is no improvement in the dataset"
   ]
  },
  {
   "cell_type": "markdown",
   "metadata": {},
   "source": [
    "## Removing the outliers"
   ]
  },
  {
   "cell_type": "code",
   "execution_count": 77,
   "metadata": {},
   "outputs": [],
   "source": [
    "df_final_1=pd.concat([X_new,X_new_test],axis=0)\n",
    "df_final_2=pd.concat([y_train,y_test],axis=0)\n",
    "df_final=pd.concat([df_final_1,df_final_2],axis=1)"
   ]
  },
  {
   "cell_type": "code",
   "execution_count": 78,
   "metadata": {},
   "outputs": [],
   "source": [
    "#removing the outlies\n",
    "Q1 = df_final.quantile(0.25)\n",
    "Q3 = df_final.quantile(0.75)\n",
    "IQR = Q3-Q1\n",
    "#print(IQR)\n"
   ]
  },
  {
   "cell_type": "code",
   "execution_count": 79,
   "metadata": {},
   "outputs": [],
   "source": [
    "lower = Q1 - 1.5*IQR\n",
    "upper = Q3 + 1.5*IQR\n",
    "#print(lower)\n",
    "#print(upper)"
   ]
  },
  {
   "cell_type": "code",
   "execution_count": 80,
   "metadata": {},
   "outputs": [
    {
     "data": {
      "text/html": [
       "<div>\n",
       "<style scoped>\n",
       "    .dataframe tbody tr th:only-of-type {\n",
       "        vertical-align: middle;\n",
       "    }\n",
       "\n",
       "    .dataframe tbody tr th {\n",
       "        vertical-align: top;\n",
       "    }\n",
       "\n",
       "    .dataframe thead th {\n",
       "        text-align: right;\n",
       "    }\n",
       "</style>\n",
       "<table border=\"1\" class=\"dataframe\">\n",
       "  <thead>\n",
       "    <tr style=\"text-align: right;\">\n",
       "      <th></th>\n",
       "      <th>const</th>\n",
       "      <th>On_Road_Price</th>\n",
       "      <th>Transparency_Score</th>\n",
       "      <th>Pricing_Score</th>\n",
       "      <th>Make</th>\n",
       "      <th>Year</th>\n",
       "      <th>Petrol</th>\n",
       "      <th>Hatchback</th>\n",
       "      <th>Sedan</th>\n",
       "      <th>Dealer</th>\n",
       "      <th>Selling_Price</th>\n",
       "    </tr>\n",
       "  </thead>\n",
       "  <tbody>\n",
       "    <tr>\n",
       "      <th>530</th>\n",
       "      <td>1.0</td>\n",
       "      <td>1139453.0</td>\n",
       "      <td>6.6</td>\n",
       "      <td>4.6</td>\n",
       "      <td>5</td>\n",
       "      <td>2011</td>\n",
       "      <td>0</td>\n",
       "      <td>0</td>\n",
       "      <td>0</td>\n",
       "      <td>1</td>\n",
       "      <td>475000</td>\n",
       "    </tr>\n",
       "    <tr>\n",
       "      <th>475</th>\n",
       "      <td>1.0</td>\n",
       "      <td>777222.0</td>\n",
       "      <td>6.8</td>\n",
       "      <td>7.8</td>\n",
       "      <td>5</td>\n",
       "      <td>2016</td>\n",
       "      <td>0</td>\n",
       "      <td>0</td>\n",
       "      <td>0</td>\n",
       "      <td>1</td>\n",
       "      <td>290999</td>\n",
       "    </tr>\n",
       "  </tbody>\n",
       "</table>\n",
       "</div>"
      ],
      "text/plain": [
       "     const  On_Road_Price  Transparency_Score  Pricing_Score  Make  Year  \\\n",
       "530    1.0      1139453.0                 6.6            4.6     5  2011   \n",
       "475    1.0       777222.0                 6.8            7.8     5  2016   \n",
       "\n",
       "     Petrol  Hatchback  Sedan  Dealer  Selling_Price  \n",
       "530       0          0      0       1         475000  \n",
       "475       0          0      0       1         290999  "
      ]
     },
     "execution_count": 80,
     "metadata": {},
     "output_type": "execute_result"
    }
   ],
   "source": [
    "new_df = df_final[~((df_final < (Q1 - 1.5 * IQR)) |(df_final > (Q3 + 1.5 * IQR))).any(axis=1)]\n",
    "new_df.head(2)"
   ]
  },
  {
   "cell_type": "code",
   "execution_count": 81,
   "metadata": {},
   "outputs": [
    {
     "data": {
      "text/plain": [
       "(439, 1)"
      ]
     },
     "execution_count": 81,
     "metadata": {},
     "output_type": "execute_result"
    }
   ],
   "source": [
    "X_out=new_df.iloc[:,0 : -1]\n",
    "y_out=new_df.iloc[:,-1 :]\n",
    "y.shape"
   ]
  },
  {
   "cell_type": "code",
   "execution_count": 82,
   "metadata": {},
   "outputs": [],
   "source": [
    "from sklearn.model_selection import train_test_split\n",
    "seed=10\n",
    "test_size=0.2\n",
    "X_train_out,X_test_out,y_train_out,y_test_out= train_test_split(X_out,y_out, test_size = test_size, random_state = seed) "
   ]
  },
  {
   "cell_type": "code",
   "execution_count": 83,
   "metadata": {},
   "outputs": [
    {
     "data": {
      "text/plain": [
       "LinearRegression(copy_X=True, fit_intercept=True, n_jobs=None, normalize=False)"
      ]
     },
     "execution_count": 83,
     "metadata": {},
     "output_type": "execute_result"
    }
   ],
   "source": [
    "from sklearn.linear_model import LinearRegression\n",
    "model_out = LinearRegression()\n",
    "model_out.fit(X_train_out,y_train_out)"
   ]
  },
  {
   "cell_type": "code",
   "execution_count": 84,
   "metadata": {},
   "outputs": [],
   "source": [
    "y_pred_train=model_out.predict(X_train_out)\n",
    "y_pred_1 = model_out.predict(X_test_out)"
   ]
  },
  {
   "cell_type": "code",
   "execution_count": 85,
   "metadata": {},
   "outputs": [
    {
     "name": "stdout",
     "output_type": "stream",
     "text": [
      "0.47215097014323526\n",
      "0.3491128832928896\n"
     ]
    }
   ],
   "source": [
    "from sklearn.metrics import r2_score\n",
    "print(r2_score(y_train_out,y_pred_train))\n",
    "print(r2_score(y_test_out,y_pred_1))"
   ]
  },
  {
   "cell_type": "code",
   "execution_count": 86,
   "metadata": {},
   "outputs": [
    {
     "name": "stdout",
     "output_type": "stream",
     "text": [
      "108733.97692112235\n",
      "96765.68902712615\n"
     ]
    }
   ],
   "source": [
    "print(np.sqrt(mean_squared_error(y_train_out,y_pred_train)))\n",
    "print(np.sqrt(mean_squared_error(y_test_out,y_pred_1)))"
   ]
  },
  {
   "cell_type": "code",
   "execution_count": 87,
   "metadata": {},
   "outputs": [
    {
     "data": {
      "text/plain": [
       "<matplotlib.axes._subplots.AxesSubplot at 0x1dedb297400>"
      ]
     },
     "execution_count": 87,
     "metadata": {},
     "output_type": "execute_result"
    },
    {
     "data": {
      "image/png": "[encoded data removed]",
      "text/plain": [
       "<Figure size 432x288 with 1 Axes>"
      ]
     },
     "metadata": {},
     "output_type": "display_data"
    }
   ],
   "source": [
    "sns.set(style=\"whitegrid\")\n",
    "residual=y_train_out-y_pred_train\n",
    "x = y_pred_train\n",
    "y = residual\n",
    "sns.residplot(x, y,  color=\"g\")"
   ]
  },
  {
   "cell_type": "code",
   "execution_count": 88,
   "metadata": {},
   "outputs": [
    {
     "data": {
      "image/png": "[encoded data removed]",
      "text/plain": [
       "<Figure size 432x288 with 1 Axes>"
      ]
     },
     "metadata": {},
     "output_type": "display_data"
    }
   ],
   "source": [
    "import statsmodels.api as sm \n",
    "import pylab as py \n",
    "#residual=y_train-y_pred_train\n",
    "sm.qqplot(residual,line='s') \n",
    "py.show() "
   ]
  },
  {
   "cell_type": "code",
   "execution_count": 80,
   "metadata": {},
   "outputs": [
    {
     "data": {
      "image/png": "[encoded data removed]",
      "text/plain": [
       "<Figure size 432x288 with 1 Axes>"
      ]
     },
     "metadata": {},
     "output_type": "display_data"
    }
   ],
   "source": [
    "plt.plot(y_train_out,'r+',label='Original')\n",
    "plt.plot(y_pred_train,label='Predicted')\n",
    "plt.legend()\n",
    "plt.show()"
   ]
  },
  {
   "cell_type": "markdown",
   "metadata": {},
   "source": [
    "## Decision Tree"
   ]
  },
  {
   "cell_type": "code",
   "execution_count": 81,
   "metadata": {},
   "outputs": [],
   "source": [
    "from sklearn.model_selection import GridSearchCV\n",
    "from sklearn.tree import DecisionTreeRegressor\n",
    "estimator=DecisionTreeRegressor()\n",
    "param_grid = {\n",
    "    'max_depth': [3,4,5,6,7],\n",
    "     'min_samples_split': [2,3,4,5,6,7,8,9] ,\n",
    "      'min_samples_leaf':[2,3,4,5,6,7,8]}"
   ]
  },
  {
   "cell_type": "code",
   "execution_count": 82,
   "metadata": {},
   "outputs": [],
   "source": [
    " grid = GridSearchCV(estimator, param_grid, n_jobs=-1)"
   ]
  },
  {
   "cell_type": "code",
   "execution_count": 83,
   "metadata": {},
   "outputs": [
    {
     "data": {
      "text/plain": [
       "GridSearchCV(cv=None, error_score=nan,\n",
       "             estimator=DecisionTreeRegressor(ccp_alpha=0.0, criterion='mse',\n",
       "                                             max_depth=None, max_features=None,\n",
       "                                             max_leaf_nodes=None,\n",
       "                                             min_impurity_decrease=0.0,\n",
       "                                             min_impurity_split=None,\n",
       "                                             min_samples_leaf=1,\n",
       "                                             min_samples_split=2,\n",
       "                                             min_weight_fraction_leaf=0.0,\n",
       "                                             presort='deprecated',\n",
       "                                             random_state=None,\n",
       "                                             splitter='best'),\n",
       "             iid='deprecated', n_jobs=-1,\n",
       "             param_grid={'max_depth': [3, 4, 5, 6, 7],\n",
       "                         'min_samples_leaf': [2, 3, 4, 5, 6, 7, 8],\n",
       "                         'min_samples_split': [2, 3, 4, 5, 6, 7, 8, 9]},\n",
       "             pre_dispatch='2*n_jobs', refit=True, return_train_score=False,\n",
       "             scoring=None, verbose=0)"
      ]
     },
     "execution_count": 83,
     "metadata": {},
     "output_type": "execute_result"
    }
   ],
   "source": [
    "grid.fit(X_train, y_train)"
   ]
  },
  {
   "cell_type": "code",
   "execution_count": 95,
   "metadata": {},
   "outputs": [
    {
     "name": "stdout",
     "output_type": "stream",
     "text": [
      "{'max_depth': 6, 'min_samples_leaf': 3, 'min_samples_split': 2, 'n_estimators': 100}\n"
     ]
    }
   ],
   "source": [
    "print(grid.best_params_)"
   ]
  },
  {
   "cell_type": "code",
   "execution_count": 97,
   "metadata": {},
   "outputs": [
    {
     "data": {
      "text/plain": [
       "DecisionTreeRegressor(ccp_alpha=0.0, criterion='mse', max_depth=6,\n",
       "                      max_features=None, max_leaf_nodes=None,\n",
       "                      min_impurity_decrease=0.0, min_impurity_split=None,\n",
       "                      min_samples_leaf=3, min_samples_split=2,\n",
       "                      min_weight_fraction_leaf=0.0, presort='deprecated',\n",
       "                      random_state=None, splitter='best')"
      ]
     },
     "execution_count": 97,
     "metadata": {},
     "output_type": "execute_result"
    }
   ],
   "source": [
    "from sklearn.tree import DecisionTreeRegressor\n",
    "model_tree=DecisionTreeRegressor(max_depth=6,min_samples_split=2, min_samples_leaf=3)\n",
    "model_tree.fit(X_train,y_train)"
   ]
  },
  {
   "cell_type": "code",
   "execution_count": 86,
   "metadata": {},
   "outputs": [],
   "source": [
    "y_pred_tree=model_tree.predict(X_test)\n",
    "y_train_tree=model_tree.predict(X_train)"
   ]
  },
  {
   "cell_type": "code",
   "execution_count": 87,
   "metadata": {},
   "outputs": [
    {
     "name": "stdout",
     "output_type": "stream",
     "text": [
      "167871.76174672792\n"
     ]
    }
   ],
   "source": [
    "from sklearn.metrics import mean_squared_error, r2_score\n",
    "mse=mean_squared_error(y_test, y_pred_tree)\n",
    "print(np.sqrt(mse))"
   ]
  },
  {
   "cell_type": "code",
   "execution_count": 88,
   "metadata": {},
   "outputs": [
    {
     "name": "stdout",
     "output_type": "stream",
     "text": [
      "129416.73473839674\n"
     ]
    }
   ],
   "source": [
    "mse=mean_squared_error(y_train, y_train_tree)\n",
    "print(np.sqrt(mse))"
   ]
  },
  {
   "cell_type": "code",
   "execution_count": 89,
   "metadata": {},
   "outputs": [
    {
     "name": "stdout",
     "output_type": "stream",
     "text": [
      "0.5494689093502868\n"
     ]
    }
   ],
   "source": [
    "from sklearn.metrics import r2_score\n",
    "print(r2_score(y_train,y_train_tree))"
   ]
  },
  {
   "cell_type": "markdown",
   "metadata": {},
   "source": [
    "##  Random Forest"
   ]
  },
  {
   "cell_type": "code",
   "execution_count": 92,
   "metadata": {},
   "outputs": [],
   "source": [
    "from sklearn.ensemble import RandomForestRegressor\n",
    "from sklearn.model_selection import GridSearchCV\n",
    "estimator = RandomForestRegressor()\n",
    "param_grid = { \n",
    "            \"n_estimators\"      : [100,200,300,400],\n",
    "           \n",
    "            \"min_samples_split\" : [2,4,6,],\n",
    "            \"max_depth\":          [5,6,7],\n",
    "             \"min_samples_leaf\"   : [2,3,5,6]\n",
    "            }"
   ]
  },
  {
   "cell_type": "code",
   "execution_count": 93,
   "metadata": {},
   "outputs": [],
   "source": [
    "grid= GridSearchCV(estimator, param_grid, n_jobs=-1)"
   ]
  },
  {
   "cell_type": "code",
   "execution_count": 94,
   "metadata": {},
   "outputs": [
    {
     "data": {
      "text/plain": [
       "GridSearchCV(cv=None, error_score=nan,\n",
       "             estimator=RandomForestRegressor(bootstrap=True, ccp_alpha=0.0,\n",
       "                                             criterion='mse', max_depth=None,\n",
       "                                             max_features='auto',\n",
       "                                             max_leaf_nodes=None,\n",
       "                                             max_samples=None,\n",
       "                                             min_impurity_decrease=0.0,\n",
       "                                             min_impurity_split=None,\n",
       "                                             min_samples_leaf=1,\n",
       "                                             min_samples_split=2,\n",
       "                                             min_weight_fraction_leaf=0.0,\n",
       "                                             n_estimators=100, n_jobs=None,\n",
       "                                             oob_score=False, random_state=None,\n",
       "                                             verbose=0, warm_start=False),\n",
       "             iid='deprecated', n_jobs=-1,\n",
       "             param_grid={'max_depth': [5, 6, 7],\n",
       "                         'min_samples_leaf': [2, 3, 5, 6],\n",
       "                         'min_samples_split': [2, 4, 6],\n",
       "                         'n_estimators': [100, 200, 300, 400]},\n",
       "             pre_dispatch='2*n_jobs', refit=True, return_train_score=False,\n",
       "             scoring=None, verbose=0)"
      ]
     },
     "execution_count": 94,
     "metadata": {},
     "output_type": "execute_result"
    }
   ],
   "source": [
    "grid.fit(X_train, y_train)"
   ]
  },
  {
   "cell_type": "code",
   "execution_count": 98,
   "metadata": {},
   "outputs": [
    {
     "name": "stdout",
     "output_type": "stream",
     "text": [
      "{'max_depth': 6, 'min_samples_leaf': 3, 'min_samples_split': 2, 'n_estimators': 100}\n"
     ]
    }
   ],
   "source": [
    "print(grid.best_params_)"
   ]
  },
  {
   "cell_type": "code",
   "execution_count": 100,
   "metadata": {},
   "outputs": [
    {
     "data": {
      "text/plain": [
       "RandomForestRegressor(bootstrap=True, ccp_alpha=0.0, criterion='mse',\n",
       "                      max_depth=6, max_features='auto', max_leaf_nodes=None,\n",
       "                      max_samples=None, min_impurity_decrease=0.0,\n",
       "                      min_impurity_split=None, min_samples_leaf=3,\n",
       "                      min_samples_split=2, min_weight_fraction_leaf=0.0,\n",
       "                      n_estimators=100, n_jobs=None, oob_score=False,\n",
       "                      random_state=None, verbose=0, warm_start=False)"
      ]
     },
     "execution_count": 100,
     "metadata": {},
     "output_type": "execute_result"
    }
   ],
   "source": [
    "from sklearn.ensemble import RandomForestRegressor\n",
    "rf=RandomForestRegressor(max_depth=6, min_samples_leaf=3, min_samples_split= 2, n_estimators= 100)\n",
    "rf.fit(X_train,y_train)"
   ]
  },
  {
   "cell_type": "code",
   "execution_count": 101,
   "metadata": {},
   "outputs": [],
   "source": [
    "y_pred_rf = rf.predict(X_test)\n",
    "y_pred_rf_train=rf.predict(X_train)"
   ]
  },
  {
   "cell_type": "code",
   "execution_count": 102,
   "metadata": {},
   "outputs": [
    {
     "name": "stdout",
     "output_type": "stream",
     "text": [
      "0.7900133634986548\n",
      "0.4164698018162626\n"
     ]
    }
   ],
   "source": [
    "from sklearn.metrics import r2_score\n",
    "print(r2_score(y_train,y_pred_rf_train))\n",
    "print(r2_score(y_test,y_pred_rf))"
   ]
  },
  {
   "cell_type": "code",
   "execution_count": 103,
   "metadata": {},
   "outputs": [
    {
     "name": "stdout",
     "output_type": "stream",
     "text": [
      "152659.35426713747\n",
      "88353.5254930691\n"
     ]
    }
   ],
   "source": [
    "from sklearn.metrics import mean_squared_error, r2_score\n",
    "print(np.sqrt(mean_squared_error(y_test, y_pred_rf)))\n",
    "print(np.sqrt(mean_squared_error(y_train, y_pred_rf_train)))"
   ]
  },
  {
   "cell_type": "markdown",
   "metadata": {},
   "source": [
    "## Boosting"
   ]
  },
  {
   "cell_type": "code",
   "execution_count": 104,
   "metadata": {},
   "outputs": [],
   "source": [
    "from sklearn.model_selection import GridSearchCV\n",
    "from sklearn.ensemble import AdaBoostRegressor\n",
    "estimator = AdaBoostRegressor()\n",
    "param_grid = { \n",
    "            \"n_estimators\"      : [100,200,300]}"
   ]
  },
  {
   "cell_type": "code",
   "execution_count": 105,
   "metadata": {},
   "outputs": [],
   "source": [
    "grid = GridSearchCV(estimator, param_grid, n_jobs=-1)"
   ]
  },
  {
   "cell_type": "code",
   "execution_count": 106,
   "metadata": {},
   "outputs": [
    {
     "data": {
      "text/plain": [
       "GridSearchCV(cv=None, error_score=nan,\n",
       "             estimator=AdaBoostRegressor(base_estimator=None, learning_rate=1.0,\n",
       "                                         loss='linear', n_estimators=50,\n",
       "                                         random_state=None),\n",
       "             iid='deprecated', n_jobs=-1,\n",
       "             param_grid={'n_estimators': [100, 200, 300]},\n",
       "             pre_dispatch='2*n_jobs', refit=True, return_train_score=False,\n",
       "             scoring=None, verbose=0)"
      ]
     },
     "execution_count": 106,
     "metadata": {},
     "output_type": "execute_result"
    }
   ],
   "source": [
    "grid.fit(X_train, y_train)"
   ]
  },
  {
   "cell_type": "code",
   "execution_count": 107,
   "metadata": {},
   "outputs": [
    {
     "name": "stdout",
     "output_type": "stream",
     "text": [
      "{'n_estimators': 300}\n"
     ]
    }
   ],
   "source": [
    "print(grid.best_params_)"
   ]
  },
  {
   "cell_type": "code",
   "execution_count": 173,
   "metadata": {},
   "outputs": [
    {
     "data": {
      "text/plain": [
       "AdaBoostRegressor(base_estimator=None, learning_rate=1.0, loss='linear',\n",
       "                  n_estimators=300, random_state=None)"
      ]
     },
     "execution_count": 173,
     "metadata": {},
     "output_type": "execute_result"
    }
   ],
   "source": [
    "from sklearn.ensemble import AdaBoostRegressor\n",
    "ad_boost=AdaBoostRegressor(n_estimators=300)\n",
    "ad_boost.fit(X_train,y_train)"
   ]
  },
  {
   "cell_type": "code",
   "execution_count": 174,
   "metadata": {},
   "outputs": [],
   "source": [
    "pred_boost=ad_boost.predict(X_test)\n",
    "pred_boost_train=ad_boost.predict(X_train)"
   ]
  },
  {
   "cell_type": "code",
   "execution_count": 175,
   "metadata": {},
   "outputs": [
    {
     "name": "stdout",
     "output_type": "stream",
     "text": [
      "0.6540774383134924\n",
      "0.3663283588245355\n"
     ]
    }
   ],
   "source": [
    "from sklearn.metrics import r2_score\n",
    "print(r2_score(y_train,pred_boost_train))\n",
    "print(r2_score(y_test,pred_boost))"
   ]
  },
  {
   "cell_type": "code",
   "execution_count": 176,
   "metadata": {},
   "outputs": [
    {
     "name": "stdout",
     "output_type": "stream",
     "text": [
      "159083.04263465654\n",
      "113401.16052155507\n"
     ]
    }
   ],
   "source": [
    "from sklearn.metrics import mean_squared_error, r2_score\n",
    "print(np.sqrt(mean_squared_error(y_test, pred_boost)))\n",
    "print(np.sqrt(mean_squared_error(y_train, pred_boost_train)))"
   ]
  },
  {
   "cell_type": "markdown",
   "metadata": {},
   "source": [
    "# Support Vector Regression"
   ]
  },
  {
   "cell_type": "code",
   "execution_count": 112,
   "metadata": {},
   "outputs": [],
   "source": [
    "from sklearn.model_selection import GridSearchCV\n",
    "from sklearn.svm import SVR\n",
    "estimator = SVR()\n",
    "param_grid = { \n",
    "            'kernel':['linear'],\n",
    "               'C': [50,75,100,125]  }"
   ]
  },
  {
   "cell_type": "code",
   "execution_count": 113,
   "metadata": {},
   "outputs": [],
   "source": [
    "grid = GridSearchCV(estimator, param_grid, n_jobs=-1)"
   ]
  },
  {
   "cell_type": "code",
   "execution_count": 114,
   "metadata": {},
   "outputs": [
    {
     "data": {
      "text/plain": [
       "GridSearchCV(cv=None, error_score=nan,\n",
       "             estimator=SVR(C=1.0, cache_size=200, coef0=0.0, degree=3,\n",
       "                           epsilon=0.1, gamma='scale', kernel='rbf',\n",
       "                           max_iter=-1, shrinking=True, tol=0.001,\n",
       "                           verbose=False),\n",
       "             iid='deprecated', n_jobs=-1,\n",
       "             param_grid={'C': [50, 75, 100, 125], 'kernel': ['linear']},\n",
       "             pre_dispatch='2*n_jobs', refit=True, return_train_score=False,\n",
       "             scoring=None, verbose=0)"
      ]
     },
     "execution_count": 114,
     "metadata": {},
     "output_type": "execute_result"
    }
   ],
   "source": [
    "grid.fit(X_train_s,y_train_s)"
   ]
  },
  {
   "cell_type": "code",
   "execution_count": 115,
   "metadata": {},
   "outputs": [
    {
     "name": "stdout",
     "output_type": "stream",
     "text": [
      "{'C': 100, 'kernel': 'linear'}\n"
     ]
    }
   ],
   "source": [
    "print(grid.best_params_)"
   ]
  },
  {
   "cell_type": "code",
   "execution_count": 142,
   "metadata": {},
   "outputs": [
    {
     "data": {
      "text/plain": [
       "SVR(C=100, cache_size=200, coef0=0.0, degree=3, epsilon=0.1, gamma='scale',\n",
       "    kernel='linear', max_iter=-1, shrinking=True, tol=0.001, verbose=False)"
      ]
     },
     "execution_count": 142,
     "metadata": {},
     "output_type": "execute_result"
    }
   ],
   "source": [
    "# Support Vector Regression \n",
    "#from sklearn.svm import SVR\n",
    "svr=SVR(kernel='linear',C=100)\n",
    "svr.fit(X_train_s,y_train_s)"
   ]
  },
  {
   "cell_type": "code",
   "execution_count": 143,
   "metadata": {},
   "outputs": [],
   "source": [
    "pred_svr=svr.predict(X_train_s)\n",
    "pred_svr_test=svr.predict(X_test_s)"
   ]
  },
  {
   "cell_type": "code",
   "execution_count": 144,
   "metadata": {},
   "outputs": [
    {
     "name": "stdout",
     "output_type": "stream",
     "text": [
      "0.5612921456077948\n"
     ]
    }
   ],
   "source": [
    "print(r2_score(y_train_s,pred_svr))"
   ]
  },
  {
   "cell_type": "code",
   "execution_count": 145,
   "metadata": {},
   "outputs": [
    {
     "name": "stdout",
     "output_type": "stream",
     "text": [
      "0.08921402472587302\n",
      "0.08429525464393052\n"
     ]
    }
   ],
   "source": [
    "print(np.sqrt(mean_squared_error(y_test_s, pred_svr_test)))\n",
    "print(np.sqrt(mean_squared_error(y_train_s, pred_svr)))"
   ]
  },
  {
   "cell_type": "markdown",
   "metadata": {},
   "source": [
    "# With kerner rbf"
   ]
  },
  {
   "cell_type": "code",
   "execution_count": 146,
   "metadata": {},
   "outputs": [],
   "source": [
    "from sklearn.model_selection import GridSearchCV\n",
    "from sklearn.svm import SVR\n",
    "estimator = SVR()\n",
    "param_grid = { \n",
    "            'kernel':['rbf'],\n",
    "               'gamma': [0.1,0.01,0.001,0.0001]  }"
   ]
  },
  {
   "cell_type": "code",
   "execution_count": 147,
   "metadata": {},
   "outputs": [],
   "source": [
    "grid = GridSearchCV(estimator, param_grid, n_jobs=-1)"
   ]
  },
  {
   "cell_type": "code",
   "execution_count": 148,
   "metadata": {},
   "outputs": [
    {
     "data": {
      "text/plain": [
       "GridSearchCV(cv=None, error_score=nan,\n",
       "             estimator=SVR(C=1.0, cache_size=200, coef0=0.0, degree=3,\n",
       "                           epsilon=0.1, gamma='scale', kernel='rbf',\n",
       "                           max_iter=-1, shrinking=True, tol=0.001,\n",
       "                           verbose=False),\n",
       "             iid='deprecated', n_jobs=-1,\n",
       "             param_grid={'gamma': [0.1, 0.01, 0.001, 0.0001],\n",
       "                         'kernel': ['rbf']},\n",
       "             pre_dispatch='2*n_jobs', refit=True, return_train_score=False,\n",
       "             scoring=None, verbose=0)"
      ]
     },
     "execution_count": 148,
     "metadata": {},
     "output_type": "execute_result"
    }
   ],
   "source": [
    "grid.fit(X_train_s,y_train_s)"
   ]
  },
  {
   "cell_type": "code",
   "execution_count": 149,
   "metadata": {},
   "outputs": [
    {
     "name": "stdout",
     "output_type": "stream",
     "text": [
      "{'gamma': 0.1, 'kernel': 'rbf'}\n"
     ]
    }
   ],
   "source": [
    "print(grid.best_params_)"
   ]
  },
  {
   "cell_type": "code",
   "execution_count": 152,
   "metadata": {},
   "outputs": [
    {
     "data": {
      "text/plain": [
       "SVR(C=1.0, cache_size=200, coef0=0.0, degree=3, epsilon=0.1, gamma=0.1,\n",
       "    kernel='rbf', max_iter=-1, shrinking=True, tol=0.001, verbose=False)"
      ]
     },
     "execution_count": 152,
     "metadata": {},
     "output_type": "execute_result"
    }
   ],
   "source": [
    "svr_1=SVR(kernel='rbf',gamma=0.1)\n",
    "svr_1.fit(X_train_s,y_train_s)"
   ]
  },
  {
   "cell_type": "code",
   "execution_count": 153,
   "metadata": {},
   "outputs": [],
   "source": [
    "pred_svr=svr_1.predict(X_train_s)\n",
    "pred_svr_test=svr_1.predict(X_test_s)"
   ]
  },
  {
   "cell_type": "code",
   "execution_count": 154,
   "metadata": {},
   "outputs": [
    {
     "name": "stdout",
     "output_type": "stream",
     "text": [
      "0.5576165034658949\n"
     ]
    }
   ],
   "source": [
    "print(r2_score(y_train_s,pred_svr))"
   ]
  },
  {
   "cell_type": "code",
   "execution_count": 155,
   "metadata": {},
   "outputs": [
    {
     "name": "stdout",
     "output_type": "stream",
     "text": [
      "0.0897515982851673\n",
      "0.08464764508727178\n"
     ]
    }
   ],
   "source": [
    "print(np.sqrt(mean_squared_error(y_test_s, pred_svr_test)))\n",
    "print(np.sqrt(mean_squared_error(y_train_s, pred_svr)))"
   ]
  },
  {
   "cell_type": "markdown",
   "metadata": {},
   "source": [
    "# K-Neighbors Regression"
   ]
  },
  {
   "cell_type": "code",
   "execution_count": 91,
   "metadata": {},
   "outputs": [
    {
     "name": "stdout",
     "output_type": "stream",
     "text": [
      "RMSE value for k=  1 is: 205963.39782460025\n",
      "RMSE value for k=  2 is: 175197.93066080226\n",
      "RMSE value for k=  3 is: 170954.23387119983\n",
      "RMSE value for k=  4 is: 164771.33720509152\n",
      "RMSE value for k=  5 is: 160411.44835798632\n",
      "RMSE value for k=  6 is: 158563.42592638798\n",
      "RMSE value for k=  7 is: 157348.25836256193\n",
      "RMSE value for k=  8 is: 157103.81347498298\n",
      "RMSE value for k=  9 is: 157920.63618740375\n",
      "RMSE value for k=  10 is: 155329.32407388944\n",
      "RMSE value for k=  11 is: 158209.2456764432\n",
      "RMSE value for k=  12 is: 158088.49212886803\n",
      "RMSE value for k=  13 is: 157778.18373388913\n",
      "RMSE value for k=  14 is: 157859.376837017\n",
      "RMSE value for k=  15 is: 158858.50298418858\n",
      "RMSE value for k=  16 is: 159001.52437897166\n",
      "RMSE value for k=  17 is: 159435.27110261653\n",
      "RMSE value for k=  18 is: 159918.40587747592\n",
      "RMSE value for k=  19 is: 161417.85530306632\n",
      "RMSE value for k=  20 is: 161550.32044495302\n"
     ]
    }
   ],
   "source": [
    "from sklearn import neighbors\n",
    "rmse_val = [] #to store rmse values for different k\n",
    "for K in range(20):\n",
    "    K = K+1\n",
    "    model = neighbors.KNeighborsRegressor(n_neighbors = K)\n",
    "\n",
    "    model.fit(X_train, y_train)  #fit the model\n",
    "    pred=model.predict(X_test) #make prediction on test set\n",
    "    error = np.sqrt(mean_squared_error(y_test,pred)) #calculate rmse\n",
    "    rmse_val.append(error) #store rmse values\n",
    "    print('RMSE value for k= ' , K , 'is:', error)"
   ]
  },
  {
   "cell_type": "code",
   "execution_count": 92,
   "metadata": {},
   "outputs": [
    {
     "data": {
      "text/plain": [
       "KNeighborsRegressor(algorithm='auto', leaf_size=30, metric='minkowski',\n",
       "                    metric_params=None, n_jobs=None, n_neighbors=5, p=2,\n",
       "                    weights='uniform')"
      ]
     },
     "execution_count": 92,
     "metadata": {},
     "output_type": "execute_result"
    }
   ],
   "source": [
    "model_k=neighbors.KNeighborsRegressor()\n",
    "model_K = neighbors.KNeighborsRegressor(n_neighbors = 10)\n",
    "model_k.fit(X_train,y_train)    "
   ]
  },
  {
   "cell_type": "code",
   "execution_count": 93,
   "metadata": {},
   "outputs": [],
   "source": [
    "pred_knn=model_k.predict(X_train)\n",
    "pred_knn_test=model_k.predict(X_test)"
   ]
  },
  {
   "cell_type": "code",
   "execution_count": 94,
   "metadata": {},
   "outputs": [
    {
     "name": "stdout",
     "output_type": "stream",
     "text": [
      "0.6179652817070799\n"
     ]
    }
   ],
   "source": [
    "print(r2_score(y_train,pred_knn))"
   ]
  },
  {
   "cell_type": "code",
   "execution_count": 95,
   "metadata": {},
   "outputs": [
    {
     "name": "stdout",
     "output_type": "stream",
     "text": [
      "Test RMSE: 160411.44835798632\n",
      "Train RMSE: 119173.43871401428\n"
     ]
    }
   ],
   "source": [
    "print(\"Test RMSE:\",np.sqrt(mean_squared_error(y_test, pred_knn_test)))\n",
    "print(\"Train RMSE:\",np.sqrt(mean_squared_error(y_train, pred_knn)))"
   ]
  },
  {
   "cell_type": "code",
   "execution_count": null,
   "metadata": {},
   "outputs": [],
   "source": []
  }
 ],
 "metadata": {
  "kernelspec": {
   "display_name": "Python 3",
   "language": "python",
   "name": "python3"
  },
  "language_info": {
   "codemirror_mode": {
    "name": "ipython",
    "version": 3
   },
   "file_extension": ".py",
   "mimetype": "text/x-python",
   "name": "python",
   "nbconvert_exporter": "python",
   "pygments_lexer": "ipython3",
   "version": "3.7.3"
  }
 },
 "nbformat": 4,
 "nbformat_minor": 2
}
